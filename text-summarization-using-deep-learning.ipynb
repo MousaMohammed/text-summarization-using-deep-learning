{
  "nbformat": 4,
  "nbformat_minor": 0,
  "metadata": {
    "colab": {
      "name": "myimplem.ipynb",
      "provenance": [],
      "toc_visible": true
    },
    "kernelspec": {
      "name": "python3",
      "display_name": "Python 3"
    },
    "accelerator": "GPU"
  },
  "cells": [
    {
      "cell_type": "code",
      "metadata": {
        "id": "NQhD6feN9tll",
        "colab_type": "code",
        "outputId": "5c541f3e-809d-49f0-88cd-aff41fa356a8",
        "colab": {
          "base_uri": "https://localhost:8080/",
          "height": 122
        }
      },
      "source": [
        "from google.colab import drive\n",
        "drive.mount('/content/drive')"
      ],
      "execution_count": 0,
      "outputs": [
        {
          "output_type": "stream",
          "text": [
            "Go to this URL in a browser: https://accounts.google.com/o/oauth2/auth?client_id=947318989803-6bn6qk8qdgf4n4g3pfee6491hc0brc4i.apps.googleusercontent.com&redirect_uri=urn%3aietf%3awg%3aoauth%3a2.0%3aoob&response_type=code&scope=email%20https%3a%2f%2fwww.googleapis.com%2fauth%2fdocs.test%20https%3a%2f%2fwww.googleapis.com%2fauth%2fdrive%20https%3a%2f%2fwww.googleapis.com%2fauth%2fdrive.photos.readonly%20https%3a%2f%2fwww.googleapis.com%2fauth%2fpeopleapi.readonly\n",
            "\n",
            "Enter your authorization code:\n",
            "··········\n",
            "Mounted at /content/drive\n"
          ],
          "name": "stdout"
        }
      ]
    },
    {
      "cell_type": "code",
      "metadata": {
        "id": "ByoHUEZJuGFQ",
        "colab_type": "code",
        "colab": {}
      },
      "source": [
        ""
      ],
      "execution_count": 0,
      "outputs": []
    },
    {
      "cell_type": "code",
      "metadata": {
        "id": "7YcyLuQG-PT7",
        "colab_type": "code",
        "colab": {}
      },
      "source": [
        "#\"/content/drive/My Drive/Colab Notebooks/Model 2/\"\n",
        "#/content/drive/My Drive/Colab Notebooks/Model 2/layers\n",
        "#\n",
        "import sys\n",
        "\n",
        "sys.path.insert(1, '/content/drive/My Drive/Colab Notebooks/Model 2/layers')\n",
        "#print(\"1\")\n",
        "import attention\n",
        "from attention import AttentionLayer"
      ],
      "execution_count": 0,
      "outputs": []
    },
    {
      "cell_type": "code",
      "metadata": {
        "id": "UsoPQx-5BZEl",
        "colab_type": "code",
        "outputId": "adb179c4-19d2-4715-d4e5-4d412d4e8946",
        "colab": {
          "base_uri": "https://localhost:8080/",
          "height": 35
        }
      },
      "source": [
        "pip install BeautifulSoup4"
      ],
      "execution_count": 0,
      "outputs": [
        {
          "output_type": "stream",
          "text": [
            "Requirement already satisfied: BeautifulSoup4 in /usr/local/lib/python3.6/dist-packages (4.6.3)\n"
          ],
          "name": "stdout"
        }
      ]
    },
    {
      "cell_type": "code",
      "metadata": {
        "id": "a-oV8HXxAv_i",
        "colab_type": "code",
        "outputId": "bda06427-178d-4d45-f5ae-2defd5f0b790",
        "colab": {
          "base_uri": "https://localhost:8080/",
          "height": 34
        }
      },
      "source": [
        "import numpy as np\n",
        "import pandas as pd \n",
        "import re\n",
        "#from bs4 import BeautifulSoup4\n",
        "\n",
        "\n",
        "from tensorflow.keras.preprocessing.text import Tokenizer \n",
        "from tensorflow.keras.preprocessing.sequence import pad_sequences\n",
        "from nltk.corpus import stopwords\n",
        "from tensorflow.keras.layers import Input, LSTM, Bidirectional ,Embedding, Dense, Concatenate, TimeDistributed\n",
        "from tensorflow.keras.models import Model\n",
        "from tensorflow.keras.callbacks import EarlyStopping\n",
        "import warnings\n",
        "pd.set_option(\"display.max_colwidth\", 200)\n",
        "warnings.filterwarnings(\"ignore\")\n",
        "'''\n",
        "'''\n",
        "from os import listdir\n",
        "\n",
        "# load doc into memory\n",
        "def load_doc(filename):\n",
        "\t# open the file as read only\n",
        "\tfile = open(filename, encoding='utf-8')\n",
        "\t# read all text\n",
        "\ttext = file.read()\n",
        "\t# close the file\n",
        "\tfile.close()\n",
        "\treturn text\n",
        "\n",
        "# split a document into news story and highlights\n",
        "def split_story(doc):\n",
        "\t# find first highlight\n",
        "\tindex = doc.find('@highlight')\n",
        "\t# split into story and highlights\n",
        "\tstory, highlights = doc[:index], doc[index:].split('@highlight')\n",
        "\t# strip extra white space around each highlight\n",
        "\thighlights = [h.strip() for h in highlights if len(h) > 0]\n",
        "\treturn story, highlights\n",
        "\n",
        "# load all stories in a directory\n",
        "def load_stories(directory):\n",
        "\tstories = list()\n",
        "\tfor name in listdir(directory):\n",
        "\t\tfilename = directory + '/' + name\n",
        "\t\t# load document\n",
        "\t\tdoc = load_doc(filename)\n",
        "\t\t# split into story and highlights\n",
        "\t\tstory, highlights = split_story(doc)\n",
        "\t\t# store\n",
        "\t\tstories.append({'story':story, 'highlights':highlights})\n",
        "\treturn stories\n",
        "\n",
        "# load stories   /content/drive/My Drive/Colab Notebooks/Model 2/stories10\n",
        "directory ='/content/drive/My Drive/Colab Notebooks/Model 2/stories10' #'F:\\cnn_stories\\cnn\\stories50'\n",
        "stories = load_stories(directory)\n",
        "print('Loaded Stories %d' % len(stories))"
      ],
      "execution_count": 0,
      "outputs": [
        {
          "output_type": "stream",
          "text": [
            "Loaded Stories 543\n"
          ],
          "name": "stdout"
        }
      ]
    },
    {
      "cell_type": "code",
      "metadata": {
        "id": "JkrNNneRBGVm",
        "colab_type": "code",
        "outputId": "a94f21ab-6a0d-4a32-91f2-9f01cc8a0cb6",
        "colab": {
          "base_uri": "https://localhost:8080/",
          "height": 428
        }
      },
      "source": [
        "print(stories[0])\n",
        "type(stories)\n",
        "df3=pd.DataFrame(stories)\n",
        "df3.head()"
      ],
      "execution_count": 0,
      "outputs": [
        {
          "output_type": "stream",
          "text": [
            "{'story': '(CNN)For the second time during his papacy, Pope Francis has announced a new group of bishops and archbishops set to become cardinals -- and they come from all over the world.\\n\\nPope Francis said Sunday that he would hold a meeting of cardinals on February 14 \"during which I will name 15 new Cardinals who, coming from 13 countries from every continent, manifest the indissoluble links between the Church of Rome and the particular Churches present in the world,\" according to Vatican Radio.\\n\\nNew cardinals are always important because they set the tone in the church and also elect the next pope, CNN Senior Vatican Analyst John L. Allen said. They are sometimes referred to as the princes of the Catholic Church.\\n\\nThe new cardinals come from countries such as Ethiopia, New Zealand and Myanmar.\\n\\n\"This is a pope who very much wants to reach out to people on the margins, and you clearly see that in this set,\" Allen said. \"You\\'re talking about cardinals from typically overlooked places, like Cape Verde, the Pacific island of Tonga, Panama, Thailand, Uruguay.\"\\n\\nBut for the second time since Francis\\' election, no Americans made the list.\\n\\n\"Francis\\' pattern is very clear: He wants to go to the geographical peripheries rather than places that are already top-heavy with cardinals,\" Allen said.\\n\\nChristopher Bellitto, a professor of church history at Kean University in New Jersey, noted that Francis announced his new slate of cardinals on the Catholic Feast of the Epiphany, which commemorates the visit of the Magi to Jesus\\' birthplace in Bethlehem.\\n\\n\"On feast of three wise men from far away, the Pope\\'s choices for cardinal say that every local church deserves a place at the big table.\"\\n\\nIn other words, Francis wants a more decentralized church and wants to hear reform ideas from small communities that sit far from Catholicism\\'s power centers, Bellitto said.\\n\\nThat doesn\\'t mean Francis is the first pontiff to appoint cardinals from the developing world, though. Beginning in the 1920s, an increasing number of Latin American churchmen were named cardinals, and in the 1960s, St. John XXIII, whom Francis canonized last year, appointed the first cardinals from Japan, the Philippines and Africa.\\n\\nIn addition to the 15 new cardinals Francis named on Sunday, five retired archbishops and bishops will also be honored as cardinals.\\n\\nLast year, Pope Francis appointed 19 new cardinals, including bishops from Haiti and Burkina Faso.\\n\\nCNN\\'s Daniel Burke and Christabelle Fombu contributed to this report.\\n\\n', 'highlights': ['The 15 new cardinals will be installed on February 14', 'They come from countries such as Myanmar and Tonga', \"No Americans made the list this time or the previous time in Francis' papacy\"]}\n"
          ],
          "name": "stdout"
        },
        {
          "output_type": "execute_result",
          "data": {
            "text/html": [
              "<div>\n",
              "<style scoped>\n",
              "    .dataframe tbody tr th:only-of-type {\n",
              "        vertical-align: middle;\n",
              "    }\n",
              "\n",
              "    .dataframe tbody tr th {\n",
              "        vertical-align: top;\n",
              "    }\n",
              "\n",
              "    .dataframe thead th {\n",
              "        text-align: right;\n",
              "    }\n",
              "</style>\n",
              "<table border=\"1\" class=\"dataframe\">\n",
              "  <thead>\n",
              "    <tr style=\"text-align: right;\">\n",
              "      <th></th>\n",
              "      <th>story</th>\n",
              "      <th>highlights</th>\n",
              "    </tr>\n",
              "  </thead>\n",
              "  <tbody>\n",
              "    <tr>\n",
              "      <th>0</th>\n",
              "      <td>(CNN)For the second time during his papacy, Pope Francis has announced a new group of bishops and archbishops set to become cardinals -- and they come from all over the world.\\n\\nPope Francis said...</td>\n",
              "      <td>[The 15 new cardinals will be installed on February 14, They come from countries such as Myanmar and Tonga, No Americans made the list this time or the previous time in Francis' papacy]</td>\n",
              "    </tr>\n",
              "    <tr>\n",
              "      <th>1</th>\n",
              "      <td>New Haven, Connecticut (CNN) -- A judge in New Haven sentenced a 31-year-old man to death Friday for his role in a deadly home invasion that killed a woman and her two daughters in 2007.\\n\\nJurors...</td>\n",
              "      <td>[A judge sentences Joshua Komisarjevsky to death, The 12-member jury voted for death by lethal injection on each of the six counts, Another man also has been sentenced to death in the case, A jury...</td>\n",
              "    </tr>\n",
              "    <tr>\n",
              "      <th>2</th>\n",
              "      <td>ATLANTA, Georgia (CNN)  -- Dressed head to toe in black, designer Isaac Mizrahi is wearing an outfit that seems to contradict his personality -- and his usual fashion flair.\\n\\nIsaac Mizrahi has e...</td>\n",
              "      <td>[Designer Isaac Mizrahi moving from Target to creative director at Liz Claiborne, Mizrahi says he believes \"bad hair\" is the most common style mistake  Designer says he prefers no flowers to \"bad\"...</td>\n",
              "    </tr>\n",
              "    <tr>\n",
              "      <th>3</th>\n",
              "      <td>(CNN)Marco Rubio is all in.  The Republican senator from Florida has announced that he is seeking the Republican presidential nomination, running on an optimistic message that he embodies the prom...</td>\n",
              "      <td>[Raul Reyes: In seeking Latino vote, Marco Rubio his own worst enemy on two key issues: immigration reform, Cuba relations, He says on health care, climate change and other issues, he breaks from ...</td>\n",
              "    </tr>\n",
              "    <tr>\n",
              "      <th>4</th>\n",
              "      <td>HAMILTON, Bermuda (CNN) -- Four Chinese nationals of Uyghur ethnicity who had been held at the U.S. military's Guantanamo Bay, Cuba, detention facility have been resettled in Bermuda, officials sa...</td>\n",
              "      <td>[NEW: Bermudan premier: \"Above all, this was a humanitarian act\", Uyghurs are native Chinese Muslims; the detainees were apprehended in Pakistan, China urges U.S. to hand over all 17 Uyghurs held ...</td>\n",
              "    </tr>\n",
              "  </tbody>\n",
              "</table>\n",
              "</div>"
            ],
            "text/plain": [
              "                                                                                                                                                                                                     story                                                                                                                                                                                               highlights\n",
              "0  (CNN)For the second time during his papacy, Pope Francis has announced a new group of bishops and archbishops set to become cardinals -- and they come from all over the world.\\n\\nPope Francis said...                [The 15 new cardinals will be installed on February 14, They come from countries such as Myanmar and Tonga, No Americans made the list this time or the previous time in Francis' papacy]\n",
              "1  New Haven, Connecticut (CNN) -- A judge in New Haven sentenced a 31-year-old man to death Friday for his role in a deadly home invasion that killed a woman and her two daughters in 2007.\\n\\nJurors...  [A judge sentences Joshua Komisarjevsky to death, The 12-member jury voted for death by lethal injection on each of the six counts, Another man also has been sentenced to death in the case, A jury...\n",
              "2  ATLANTA, Georgia (CNN)  -- Dressed head to toe in black, designer Isaac Mizrahi is wearing an outfit that seems to contradict his personality -- and his usual fashion flair.\\n\\nIsaac Mizrahi has e...  [Designer Isaac Mizrahi moving from Target to creative director at Liz Claiborne, Mizrahi says he believes \"bad hair\" is the most common style mistake  Designer says he prefers no flowers to \"bad\"...\n",
              "3  (CNN)Marco Rubio is all in.  The Republican senator from Florida has announced that he is seeking the Republican presidential nomination, running on an optimistic message that he embodies the prom...  [Raul Reyes: In seeking Latino vote, Marco Rubio his own worst enemy on two key issues: immigration reform, Cuba relations, He says on health care, climate change and other issues, he breaks from ...\n",
              "4  HAMILTON, Bermuda (CNN) -- Four Chinese nationals of Uyghur ethnicity who had been held at the U.S. military's Guantanamo Bay, Cuba, detention facility have been resettled in Bermuda, officials sa...  [NEW: Bermudan premier: \"Above all, this was a humanitarian act\", Uyghurs are native Chinese Muslims; the detainees were apprehended in Pakistan, China urges U.S. to hand over all 17 Uyghurs held ..."
            ]
          },
          "metadata": {
            "tags": []
          },
          "execution_count": 27
        }
      ]
    },
    {
      "cell_type": "code",
      "metadata": {
        "id": "8z-_1MK5ti05",
        "colab_type": "code",
        "colab": {}
      },
      "source": [
        "contraction_mapping = {\"ain't\": \"is not\", \"aren't\": \"are not\",\"can't\": \"cannot\", \"'cause\": \"because\", \"could've\": \"could have\", \"couldn't\": \"could not\",\n",
        "                           \"didn't\": \"did not\",  \"doesn't\": \"does not\", \"don't\": \"do not\", \"hadn't\": \"had not\", \"hasn't\": \"has not\", \"haven't\": \"have not\",\n",
        "                           \"he'd\": \"he would\",\"he'll\": \"he will\", \"he's\": \"he is\", \"how'd\": \"how did\", \"how'd'y\": \"how do you\", \"how'll\": \"how will\", \"how's\": \"how is\",\n",
        "                           \"I'd\": \"I would\", \"I'd've\": \"I would have\", \"I'll\": \"I will\", \"I'll've\": \"I will have\",\"I'm\": \"I am\", \"I've\": \"I have\", \"i'd\": \"i would\",\n",
        "                           \"i'd've\": \"i would have\", \"i'll\": \"i will\",  \"i'll've\": \"i will have\",\"i'm\": \"i am\", \"i've\": \"i have\", \"isn't\": \"is not\", \"it'd\": \"it would\",\n",
        "                           \"it'd've\": \"it would have\", \"it'll\": \"it will\", \"it'll've\": \"it will have\",\"it's\": \"it is\", \"let's\": \"let us\", \"ma'am\": \"madam\",\n",
        "                           \"mayn't\": \"may not\", \"might've\": \"might have\",\"mightn't\": \"might not\",\"mightn't've\": \"might not have\", \"must've\": \"must have\",\n",
        "                           \"mustn't\": \"must not\", \"mustn't've\": \"must not have\", \"needn't\": \"need not\", \"needn't've\": \"need not have\",\"o'clock\": \"of the clock\",\n",
        "                           \"oughtn't\": \"ought not\", \"oughtn't've\": \"ought not have\", \"shan't\": \"shall not\", \"sha'n't\": \"shall not\", \"shan't've\": \"shall not have\",\n",
        "                           \"she'd\": \"she would\", \"she'd've\": \"she would have\", \"she'll\": \"she will\", \"she'll've\": \"she will have\", \"she's\": \"she is\",\n",
        "                           \"should've\": \"should have\", \"shouldn't\": \"should not\", \"shouldn't've\": \"should not have\", \"so've\": \"so have\",\"so's\": \"so as\",\n",
        "                           \"this's\": \"this is\",\"that'd\": \"that would\", \"that'd've\": \"that would have\", \"that's\": \"that is\", \"there'd\": \"there would\",\n",
        "                           \"there'd've\": \"there would have\", \"there's\": \"there is\", \"here's\": \"here is\",\"they'd\": \"they would\", \"they'd've\": \"they would have\",\n",
        "                           \"they'll\": \"they will\", \"they'll've\": \"they will have\", \"they're\": \"they are\", \"they've\": \"they have\", \"to've\": \"to have\",\n",
        "                           \"wasn't\": \"was not\", \"we'd\": \"we would\", \"we'd've\": \"we would have\", \"we'll\": \"we will\", \"we'll've\": \"we will have\", \"we're\": \"we are\",\n",
        "                           \"we've\": \"we have\", \"weren't\": \"were not\", \"what'll\": \"what will\", \"what'll've\": \"what will have\", \"what're\": \"what are\",\n",
        "                           \"what's\": \"what is\", \"what've\": \"what have\", \"when's\": \"when is\", \"when've\": \"when have\", \"where'd\": \"where did\", \"where's\": \"where is\",\n",
        "                           \"where've\": \"where have\", \"who'll\": \"who will\", \"who'll've\": \"who will have\", \"who's\": \"who is\", \"who've\": \"who have\",\n",
        "                           \"why's\": \"why is\", \"why've\": \"why have\", \"will've\": \"will have\", \"won't\": \"will not\", \"won't've\": \"will not have\",\n",
        "                           \"would've\": \"would have\", \"wouldn't\": \"would not\", \"wouldn't've\": \"would not have\", \"y'all\": \"you all\",\n",
        "                           \"y'all'd\": \"you all would\",\"y'all'd've\": \"you all would have\",\"y'all're\": \"you all are\",\"y'all've\": \"you all have\",\n",
        "                           \"you'd\": \"you would\", \"you'd've\": \"you would have\", \"you'll\": \"you will\", \"you'll've\": \"you will have\",\n",
        "                           \"you're\": \"you are\", \"you've\": \"you have\"}\n",
        "\n",
        "#******************************************"
      ],
      "execution_count": 0,
      "outputs": []
    },
    {
      "cell_type": "code",
      "metadata": {
        "id": "lXPw6Op5xy84",
        "colab_type": "code",
        "outputId": "e1ce3d17-f8f0-45df-a091-88fc93c4f5e3",
        "colab": {
          "base_uri": "https://localhost:8080/",
          "height": 68
        }
      },
      "source": [
        "import nltk\n",
        "nltk.download('stopwords')\n",
        "stop_words = set(stopwords.words('english')) \n",
        "\n",
        "def text_cleaner(text,num):\n",
        "    newString = text.lower()\n",
        "    #newString = BeautifulSoup(newString, \"lxml\").text\n",
        "    newString = re.sub(r'\\([^)]*\\)', '', newString)\n",
        "    newString = re.sub('\"','', newString)\n",
        "    newString = ' '.join([contraction_mapping[t] if t in contraction_mapping else t for t in newString.split(\" \")])    \n",
        "    newString = re.sub(r\"'s\\b\",\"\",newString)\n",
        "    newString = re.sub(\"[^a-zA-Z]\", \" \", newString) \n",
        "    newString = re.sub('[m]{2,}', 'mm', newString)\n",
        "    if(num==0):\n",
        "        tokens = [w for w in newString.split() if not w in stop_words]\n",
        "    else:\n",
        "        tokens=newString.split()\n",
        "    long_words=[]\n",
        "    for i in tokens:\n",
        "        if len(i)>1:                                                 #removing short word\n",
        "            long_words.append(i)   \n",
        "    return (\" \".join(long_words)).strip()\n",
        "\n",
        "def text_cleanerlist(text,num):\n",
        "    newString = [x.lower() for x in text]  # text.lower() #[x.lower() for x in d['highlights'][0]])\n",
        "    #newString = BeautifulSoup(newString, \"lxml\").text\n",
        "    newString = re.sub(r'\\([^)]*\\)', '', str(newString))\n",
        "    newString = re.sub('\"','', newString)\n",
        "    newString = ' '.join([contraction_mapping[t] if t in contraction_mapping else t for t in newString.split(\" \")])    \n",
        "    newString = re.sub(r\"'s\\b\",\"\",newString)\n",
        "    newString = re.sub(\"[^a-zA-Z]\", \" \", newString) \n",
        "    newString = re.sub('[m]{2,}', 'mm', newString)\n",
        "    if(num==0):\n",
        "        tokens = [w for w in newString.split() if not w in stop_words]\n",
        "    else:\n",
        "        tokens=newString.split()\n",
        "    long_words=[]\n",
        "    for i in tokens:\n",
        "        if len(i)>1:                                                 #removing short word\n",
        "            long_words.append(i)   \n",
        "    return (\" \".join(long_words)).strip()\n",
        "\n",
        "print(\"step1\")\n"
      ],
      "execution_count": 0,
      "outputs": [
        {
          "output_type": "stream",
          "text": [
            "[nltk_data] Downloading package stopwords to /root/nltk_data...\n",
            "[nltk_data]   Unzipping corpora/stopwords.zip.\n",
            "step1\n"
          ],
          "name": "stdout"
        }
      ]
    },
    {
      "cell_type": "code",
      "metadata": {
        "id": "wrclkxfhnn0X",
        "colab_type": "code",
        "outputId": "f7a1d4cf-7c0f-4ec3-c5e8-36fb003bbb2d",
        "colab": {
          "base_uri": "https://localhost:8080/",
          "height": 34
        }
      },
      "source": [
        "import tensorflow as tf\n",
        "\n",
        "device_name = tf.test.gpu_device_name()\n",
        "if device_name != '/device:GPU:0':\n",
        "  raise SystemError('GPU device not found')\n",
        "print('Found GPU at: {}'.format(device_name))"
      ],
      "execution_count": 0,
      "outputs": [
        {
          "output_type": "stream",
          "text": [
            "Found GPU at: /device:GPU:0\n"
          ],
          "name": "stdout"
        }
      ]
    },
    {
      "cell_type": "code",
      "metadata": {
        "id": "SkQZhIskn7Vw",
        "colab_type": "code",
        "outputId": "bc69cbfa-9b31-4680-b43d-343736cab899",
        "colab": {
          "base_uri": "https://localhost:8080/",
          "height": 343
        }
      },
      "source": [
        "!pip install pytorch-pretrained-bert pytorch-nlp"
      ],
      "execution_count": 0,
      "outputs": [
        {
          "output_type": "stream",
          "text": [
            "Requirement already satisfied: pytorch-pretrained-bert in /usr/local/lib/python3.6/dist-packages (0.6.2)\n",
            "Requirement already satisfied: pytorch-nlp in /usr/local/lib/python3.6/dist-packages (0.5.0)\n",
            "Requirement already satisfied: tqdm in /usr/local/lib/python3.6/dist-packages (from pytorch-pretrained-bert) (4.38.0)\n",
            "Requirement already satisfied: requests in /usr/local/lib/python3.6/dist-packages (from pytorch-pretrained-bert) (2.21.0)\n",
            "Requirement already satisfied: torch>=0.4.1 in /usr/local/lib/python3.6/dist-packages (from pytorch-pretrained-bert) (1.4.0)\n",
            "Requirement already satisfied: regex in /usr/local/lib/python3.6/dist-packages (from pytorch-pretrained-bert) (2019.12.20)\n",
            "Requirement already satisfied: boto3 in /usr/local/lib/python3.6/dist-packages (from pytorch-pretrained-bert) (1.12.43)\n",
            "Requirement already satisfied: numpy in /usr/local/lib/python3.6/dist-packages (from pytorch-pretrained-bert) (1.18.3)\n",
            "Requirement already satisfied: chardet<3.1.0,>=3.0.2 in /usr/local/lib/python3.6/dist-packages (from requests->pytorch-pretrained-bert) (3.0.4)\n",
            "Requirement already satisfied: idna<2.9,>=2.5 in /usr/local/lib/python3.6/dist-packages (from requests->pytorch-pretrained-bert) (2.8)\n",
            "Requirement already satisfied: certifi>=2017.4.17 in /usr/local/lib/python3.6/dist-packages (from requests->pytorch-pretrained-bert) (2020.4.5.1)\n",
            "Requirement already satisfied: urllib3<1.25,>=1.21.1 in /usr/local/lib/python3.6/dist-packages (from requests->pytorch-pretrained-bert) (1.24.3)\n",
            "Requirement already satisfied: jmespath<1.0.0,>=0.7.1 in /usr/local/lib/python3.6/dist-packages (from boto3->pytorch-pretrained-bert) (0.9.5)\n",
            "Requirement already satisfied: s3transfer<0.4.0,>=0.3.0 in /usr/local/lib/python3.6/dist-packages (from boto3->pytorch-pretrained-bert) (0.3.3)\n",
            "Requirement already satisfied: botocore<1.16.0,>=1.15.43 in /usr/local/lib/python3.6/dist-packages (from boto3->pytorch-pretrained-bert) (1.15.43)\n",
            "Requirement already satisfied: python-dateutil<3.0.0,>=2.1 in /usr/local/lib/python3.6/dist-packages (from botocore<1.16.0,>=1.15.43->boto3->pytorch-pretrained-bert) (2.8.1)\n",
            "Requirement already satisfied: docutils<0.16,>=0.10 in /usr/local/lib/python3.6/dist-packages (from botocore<1.16.0,>=1.15.43->boto3->pytorch-pretrained-bert) (0.15.2)\n",
            "Requirement already satisfied: six>=1.5 in /usr/local/lib/python3.6/dist-packages (from python-dateutil<3.0.0,>=2.1->botocore<1.16.0,>=1.15.43->boto3->pytorch-pretrained-bert) (1.12.0)\n"
          ],
          "name": "stdout"
        }
      ]
    },
    {
      "cell_type": "code",
      "metadata": {
        "id": "3s5we9Q_n_Tp",
        "colab_type": "code",
        "colab": {}
      },
      "source": [
        "import torch\n",
        "from torch.utils.data import TensorDataset, DataLoader, RandomSampler, SequentialSampler\n",
        "from keras.preprocessing.sequence import pad_sequences\n",
        "from sklearn.model_selection import train_test_split\n",
        "from pytorch_pretrained_bert import BertTokenizer, BertConfig\n",
        "from pytorch_pretrained_bert import BertAdam, BertForSequenceClassification\n",
        "from tqdm import tqdm, trange\n",
        "import pandas as pd\n",
        "import io\n",
        "import numpy as np\n",
        "import matplotlib.pyplot as plt\n",
        "% matplotlib inline"
      ],
      "execution_count": 0,
      "outputs": []
    },
    {
      "cell_type": "markdown",
      "metadata": {
        "id": "gIWP3MK_oDYT",
        "colab_type": "text"
      },
      "source": [
        "####In order for torch to use the GPU, we need to identify and specify the GPU as the device. Later, in our training loop, we will load data onto the device."
      ]
    },
    {
      "cell_type": "markdown",
      "metadata": {
        "id": "MmplXj8eoI6Q",
        "colab_type": "text"
      },
      "source": [
        "# Load Dataset"
      ]
    },
    {
      "cell_type": "code",
      "metadata": {
        "id": "XA3B8PjkyDyT",
        "colab_type": "code",
        "outputId": "31c9b2cc-0088-4653-c8f9-3a1ef742b4f8",
        "colab": {
          "base_uri": "https://localhost:8080/",
          "height": 391
        }
      },
      "source": [
        "df= pd.DataFrame(stories)\n",
        "(df.head())\n",
        "#df.shape"
      ],
      "execution_count": 0,
      "outputs": [
        {
          "output_type": "execute_result",
          "data": {
            "text/html": [
              "<div>\n",
              "<style scoped>\n",
              "    .dataframe tbody tr th:only-of-type {\n",
              "        vertical-align: middle;\n",
              "    }\n",
              "\n",
              "    .dataframe tbody tr th {\n",
              "        vertical-align: top;\n",
              "    }\n",
              "\n",
              "    .dataframe thead th {\n",
              "        text-align: right;\n",
              "    }\n",
              "</style>\n",
              "<table border=\"1\" class=\"dataframe\">\n",
              "  <thead>\n",
              "    <tr style=\"text-align: right;\">\n",
              "      <th></th>\n",
              "      <th>story</th>\n",
              "      <th>highlights</th>\n",
              "    </tr>\n",
              "  </thead>\n",
              "  <tbody>\n",
              "    <tr>\n",
              "      <th>0</th>\n",
              "      <td>(CNN)For the second time during his papacy, Pope Francis has announced a new group of bishops and archbishops set to become cardinals -- and they come from all over the world.\\n\\nPope Francis said...</td>\n",
              "      <td>[The 15 new cardinals will be installed on February 14, They come from countries such as Myanmar and Tonga, No Americans made the list this time or the previous time in Francis' papacy]</td>\n",
              "    </tr>\n",
              "    <tr>\n",
              "      <th>1</th>\n",
              "      <td>New Haven, Connecticut (CNN) -- A judge in New Haven sentenced a 31-year-old man to death Friday for his role in a deadly home invasion that killed a woman and her two daughters in 2007.\\n\\nJurors...</td>\n",
              "      <td>[A judge sentences Joshua Komisarjevsky to death, The 12-member jury voted for death by lethal injection on each of the six counts, Another man also has been sentenced to death in the case, A jury...</td>\n",
              "    </tr>\n",
              "    <tr>\n",
              "      <th>2</th>\n",
              "      <td>ATLANTA, Georgia (CNN)  -- Dressed head to toe in black, designer Isaac Mizrahi is wearing an outfit that seems to contradict his personality -- and his usual fashion flair.\\n\\nIsaac Mizrahi has e...</td>\n",
              "      <td>[Designer Isaac Mizrahi moving from Target to creative director at Liz Claiborne, Mizrahi says he believes \"bad hair\" is the most common style mistake  Designer says he prefers no flowers to \"bad\"...</td>\n",
              "    </tr>\n",
              "    <tr>\n",
              "      <th>3</th>\n",
              "      <td>(CNN)Marco Rubio is all in.  The Republican senator from Florida has announced that he is seeking the Republican presidential nomination, running on an optimistic message that he embodies the prom...</td>\n",
              "      <td>[Raul Reyes: In seeking Latino vote, Marco Rubio his own worst enemy on two key issues: immigration reform, Cuba relations, He says on health care, climate change and other issues, he breaks from ...</td>\n",
              "    </tr>\n",
              "    <tr>\n",
              "      <th>4</th>\n",
              "      <td>HAMILTON, Bermuda (CNN) -- Four Chinese nationals of Uyghur ethnicity who had been held at the U.S. military's Guantanamo Bay, Cuba, detention facility have been resettled in Bermuda, officials sa...</td>\n",
              "      <td>[NEW: Bermudan premier: \"Above all, this was a humanitarian act\", Uyghurs are native Chinese Muslims; the detainees were apprehended in Pakistan, China urges U.S. to hand over all 17 Uyghurs held ...</td>\n",
              "    </tr>\n",
              "  </tbody>\n",
              "</table>\n",
              "</div>"
            ],
            "text/plain": [
              "                                                                                                                                                                                                     story                                                                                                                                                                                               highlights\n",
              "0  (CNN)For the second time during his papacy, Pope Francis has announced a new group of bishops and archbishops set to become cardinals -- and they come from all over the world.\\n\\nPope Francis said...                [The 15 new cardinals will be installed on February 14, They come from countries such as Myanmar and Tonga, No Americans made the list this time or the previous time in Francis' papacy]\n",
              "1  New Haven, Connecticut (CNN) -- A judge in New Haven sentenced a 31-year-old man to death Friday for his role in a deadly home invasion that killed a woman and her two daughters in 2007.\\n\\nJurors...  [A judge sentences Joshua Komisarjevsky to death, The 12-member jury voted for death by lethal injection on each of the six counts, Another man also has been sentenced to death in the case, A jury...\n",
              "2  ATLANTA, Georgia (CNN)  -- Dressed head to toe in black, designer Isaac Mizrahi is wearing an outfit that seems to contradict his personality -- and his usual fashion flair.\\n\\nIsaac Mizrahi has e...  [Designer Isaac Mizrahi moving from Target to creative director at Liz Claiborne, Mizrahi says he believes \"bad hair\" is the most common style mistake  Designer says he prefers no flowers to \"bad\"...\n",
              "3  (CNN)Marco Rubio is all in.  The Republican senator from Florida has announced that he is seeking the Republican presidential nomination, running on an optimistic message that he embodies the prom...  [Raul Reyes: In seeking Latino vote, Marco Rubio his own worst enemy on two key issues: immigration reform, Cuba relations, He says on health care, climate change and other issues, he breaks from ...\n",
              "4  HAMILTON, Bermuda (CNN) -- Four Chinese nationals of Uyghur ethnicity who had been held at the U.S. military's Guantanamo Bay, Cuba, detention facility have been resettled in Bermuda, officials sa...  [NEW: Bermudan premier: \"Above all, this was a humanitarian act\", Uyghurs are native Chinese Muslims; the detainees were apprehended in Pakistan, China urges U.S. to hand over all 17 Uyghurs held ..."
            ]
          },
          "metadata": {
            "tags": []
          },
          "execution_count": 21
        }
      ]
    },
    {
      "cell_type": "markdown",
      "metadata": {
        "id": "R6A08mF9pcvw",
        "colab_type": "text"
      },
      "source": [
        ""
      ]
    },
    {
      "cell_type": "code",
      "metadata": {
        "id": "_LceEN_lpgJm",
        "colab_type": "code",
        "colab": {}
      },
      "source": [
        "highlights = \" \".join([w for word in highlights])"
      ],
      "execution_count": 0,
      "outputs": []
    },
    {
      "cell_type": "code",
      "metadata": {
        "id": "t1VUlNJLm0if",
        "colab_type": "code",
        "outputId": "d50717e0-f727-4790-c918-987d92c3b656",
        "colab": {
          "base_uri": "https://localhost:8080/",
          "height": 282
        }
      },
      "source": [
        "# Create sentence and label lists\n",
        "sentences = df.story.values\n",
        "\n",
        "# We need to add special tokens at the beginning and end of each sentence for BERT to work properly\n",
        "sentences = [\"[CLS] \" + sentence + \" [SEP]\" for sentence in sentences]\n",
        "\n",
        "highlights = df.highlights.values    # highlights = label\n",
        "highlights = [\"[CLS] \" + highlights + \" [SEP]\" for highlight in highlights]"
      ],
      "execution_count": 0,
      "outputs": [
        {
          "output_type": "error",
          "ename": "TypeError",
          "evalue": "ignored",
          "traceback": [
            "\u001b[0;31m---------------------------------------------------------------------------\u001b[0m",
            "\u001b[0;31mTypeError\u001b[0m                                 Traceback (most recent call last)",
            "\u001b[0;32m<ipython-input-22-22026ec5a384>\u001b[0m in \u001b[0;36m<module>\u001b[0;34m()\u001b[0m\n\u001b[1;32m      5\u001b[0m \u001b[0;34m\u001b[0m\u001b[0m\n\u001b[1;32m      6\u001b[0m \u001b[0mhighlights\u001b[0m \u001b[0;34m=\u001b[0m \u001b[0mdf\u001b[0m\u001b[0;34m.\u001b[0m\u001b[0mhighlights\u001b[0m\u001b[0;34m.\u001b[0m\u001b[0mvalues\u001b[0m    \u001b[0;31m# highlights = label\u001b[0m\u001b[0;34m\u001b[0m\u001b[0;34m\u001b[0m\u001b[0m\n\u001b[0;32m----> 7\u001b[0;31m \u001b[0mhighlights\u001b[0m \u001b[0;34m=\u001b[0m \u001b[0;34m[\u001b[0m\u001b[0;34m\"[CLS] \"\u001b[0m \u001b[0;34m+\u001b[0m \u001b[0mhighlights\u001b[0m \u001b[0;34m+\u001b[0m \u001b[0;34m\" [SEP]\"\u001b[0m \u001b[0;32mfor\u001b[0m \u001b[0mhighlight\u001b[0m \u001b[0;32min\u001b[0m \u001b[0mhighlights\u001b[0m\u001b[0;34m]\u001b[0m\u001b[0;34m\u001b[0m\u001b[0;34m\u001b[0m\u001b[0m\n\u001b[0m",
            "\u001b[0;32m<ipython-input-22-22026ec5a384>\u001b[0m in \u001b[0;36m<listcomp>\u001b[0;34m(.0)\u001b[0m\n\u001b[1;32m      5\u001b[0m \u001b[0;34m\u001b[0m\u001b[0m\n\u001b[1;32m      6\u001b[0m \u001b[0mhighlights\u001b[0m \u001b[0;34m=\u001b[0m \u001b[0mdf\u001b[0m\u001b[0;34m.\u001b[0m\u001b[0mhighlights\u001b[0m\u001b[0;34m.\u001b[0m\u001b[0mvalues\u001b[0m    \u001b[0;31m# highlights = label\u001b[0m\u001b[0;34m\u001b[0m\u001b[0;34m\u001b[0m\u001b[0m\n\u001b[0;32m----> 7\u001b[0;31m \u001b[0mhighlights\u001b[0m \u001b[0;34m=\u001b[0m \u001b[0;34m[\u001b[0m\u001b[0;34m\"[CLS] \"\u001b[0m \u001b[0;34m+\u001b[0m \u001b[0mhighlights\u001b[0m \u001b[0;34m+\u001b[0m \u001b[0;34m\" [SEP]\"\u001b[0m \u001b[0;32mfor\u001b[0m \u001b[0mhighlight\u001b[0m \u001b[0;32min\u001b[0m \u001b[0mhighlights\u001b[0m\u001b[0;34m]\u001b[0m\u001b[0;34m\u001b[0m\u001b[0;34m\u001b[0m\u001b[0m\n\u001b[0m",
            "\u001b[0;31mTypeError\u001b[0m: must be str, not list"
          ]
        }
      ]
    },
    {
      "cell_type": "code",
      "metadata": {
        "id": "ykqTfLPfm2bC",
        "colab_type": "code",
        "colab": {}
      },
      "source": [
        ""
      ],
      "execution_count": 0,
      "outputs": []
    },
    {
      "cell_type": "code",
      "metadata": {
        "id": "fof9xXvxyMkQ",
        "colab_type": "code",
        "outputId": "864548c3-f7c9-4d5d-9924-06dd698949ad",
        "colab": {
          "base_uri": "https://localhost:8080/",
          "height": 68
        }
      },
      "source": [
        "df['cleaned_summary'] =df['highlights'].apply(lambda x: text_cleanerlist(x,0))\n",
        "df['cleaned_text'] =df['story'].apply(lambda x: text_cleaner(x,0))\n",
        "\n",
        "#print(df.head())\n",
        "\n",
        "print(\"step2\")\n",
        "\n",
        "# ********************************\n",
        "import matplotlib.pyplot as plt\n",
        "%matplotlib inline\n",
        "text_word_count = []\n",
        "summary_word_count = []\n",
        "\n",
        "print(\"step2.1\")\n",
        "# populate the lists with sentence lengths\n",
        "for i in df['cleaned_text']:\n",
        "      text_word_count.append(len(i.split()))\n",
        "\n",
        "\n",
        "print(\"step2.2\")"
      ],
      "execution_count": 0,
      "outputs": [
        {
          "output_type": "stream",
          "text": [
            "step2\n",
            "step2.1\n",
            "step2.2\n"
          ],
          "name": "stdout"
        }
      ]
    },
    {
      "cell_type": "code",
      "metadata": {
        "id": "rVpSG4jOC047",
        "colab_type": "code",
        "outputId": "53be7301-b145-4caf-e41a-56faa2ad872d",
        "colab": {
          "base_uri": "https://localhost:8080/",
          "height": 714
        }
      },
      "source": [
        "df.head()"
      ],
      "execution_count": 0,
      "outputs": [
        {
          "output_type": "execute_result",
          "data": {
            "text/html": [
              "<div>\n",
              "<style scoped>\n",
              "    .dataframe tbody tr th:only-of-type {\n",
              "        vertical-align: middle;\n",
              "    }\n",
              "\n",
              "    .dataframe tbody tr th {\n",
              "        vertical-align: top;\n",
              "    }\n",
              "\n",
              "    .dataframe thead th {\n",
              "        text-align: right;\n",
              "    }\n",
              "</style>\n",
              "<table border=\"1\" class=\"dataframe\">\n",
              "  <thead>\n",
              "    <tr style=\"text-align: right;\">\n",
              "      <th></th>\n",
              "      <th>story</th>\n",
              "      <th>highlights</th>\n",
              "      <th>cleaned_summary</th>\n",
              "      <th>cleaned_text</th>\n",
              "    </tr>\n",
              "  </thead>\n",
              "  <tbody>\n",
              "    <tr>\n",
              "      <th>0</th>\n",
              "      <td>(CNN)For the second time during his papacy, Pope Francis has announced a new group of bishops and archbishops set to become cardinals -- and they come from all over the world.\\n\\nPope Francis said...</td>\n",
              "      <td>[The 15 new cardinals will be installed on February 14, They come from countries such as Myanmar and Tonga, No Americans made the list this time or the previous time in Francis' papacy]</td>\n",
              "      <td>new cardinals installed february come countries myanmar tonga americans made list time previous time francis papacy</td>\n",
              "      <td>second time papacy pope francis announced new group bishops archbishops set become cardinals come world pope francis said sunday would hold meeting cardinals february name new cardinals coming cou...</td>\n",
              "    </tr>\n",
              "    <tr>\n",
              "      <th>1</th>\n",
              "      <td>New Haven, Connecticut (CNN) -- A judge in New Haven sentenced a 31-year-old man to death Friday for his role in a deadly home invasion that killed a woman and her two daughters in 2007.\\n\\nJurors...</td>\n",
              "      <td>[A judge sentences Joshua Komisarjevsky to death, The 12-member jury voted for death by lethal injection on each of the six counts, Another man also has been sentenced to death in the case, A jury...</td>\n",
              "      <td>judge sentences joshua komisarjevsky death member jury voted death lethal injection six counts another man also sentenced death case jury convicted komisarjevsky october six felony charges</td>\n",
              "      <td>new connecticut judge new sentenced year old man death friday role deadly home invasion killed woman two daughters jurors convicted joshua komisarjevsky october six capital felony charges member j...</td>\n",
              "    </tr>\n",
              "    <tr>\n",
              "      <th>2</th>\n",
              "      <td>ATLANTA, Georgia (CNN)  -- Dressed head to toe in black, designer Isaac Mizrahi is wearing an outfit that seems to contradict his personality -- and his usual fashion flair.\\n\\nIsaac Mizrahi has e...</td>\n",
              "      <td>[Designer Isaac Mizrahi moving from Target to creative director at Liz Claiborne, Mizrahi says he believes \"bad hair\" is the most common style mistake  Designer says he prefers no flowers to \"bad\"...</td>\n",
              "      <td>designer isaac mizrahi moving target creative director liz claiborne mizrahi says believes bad hair common style mistake designer says prefers flowers bad ones mizrahi admits claustrophobic person...</td>\n",
              "      <td>atlanta georgia dressed head toe black designer isaac mizrahi wearing outfit seems contradict personality usual fashion flair isaac mizrahi earned four awards council fashion designers america alw...</td>\n",
              "    </tr>\n",
              "    <tr>\n",
              "      <th>3</th>\n",
              "      <td>(CNN)Marco Rubio is all in.  The Republican senator from Florida has announced that he is seeking the Republican presidential nomination, running on an optimistic message that he embodies the prom...</td>\n",
              "      <td>[Raul Reyes: In seeking Latino vote, Marco Rubio his own worst enemy on two key issues: immigration reform, Cuba relations, He says on health care, climate change and other issues, he breaks from ...</td>\n",
              "      <td>raul reyes seeking latino vote marco rubio worst enemy two key issues immigration reform cuba relations says health care climate change issues breaks latinos positions polls show favor</td>\n",
              "      <td>marco rubio republican senator florida announced seeking republican presidential nomination running optimistic message embodies promise american dream youthful energy hispanic roots tempting see r...</td>\n",
              "    </tr>\n",
              "    <tr>\n",
              "      <th>4</th>\n",
              "      <td>HAMILTON, Bermuda (CNN) -- Four Chinese nationals of Uyghur ethnicity who had been held at the U.S. military's Guantanamo Bay, Cuba, detention facility have been resettled in Bermuda, officials sa...</td>\n",
              "      <td>[NEW: Bermudan premier: \"Above all, this was a humanitarian act\", Uyghurs are native Chinese Muslims; the detainees were apprehended in Pakistan, China urges U.S. to hand over all 17 Uyghurs held ...</td>\n",
              "      <td>new bermudan premier humanitarian act uyghurs native chinese muslims detainees apprehended pakistan china urges hand uyghurs held guantanamo bay cuba official says still negotiating palau take rem...</td>\n",
              "      <td>hamilton bermuda four chinese nationals uyghur ethnicity held military guantanamo bay cuba detention facility resettled bermuda officials said thursday attorney general eric holder says extremely ...</td>\n",
              "    </tr>\n",
              "  </tbody>\n",
              "</table>\n",
              "</div>"
            ],
            "text/plain": [
              "                                                                                                                                                                                                     story  ...                                                                                                                                                                                             cleaned_text\n",
              "0  (CNN)For the second time during his papacy, Pope Francis has announced a new group of bishops and archbishops set to become cardinals -- and they come from all over the world.\\n\\nPope Francis said...  ...  second time papacy pope francis announced new group bishops archbishops set become cardinals come world pope francis said sunday would hold meeting cardinals february name new cardinals coming cou...\n",
              "1  New Haven, Connecticut (CNN) -- A judge in New Haven sentenced a 31-year-old man to death Friday for his role in a deadly home invasion that killed a woman and her two daughters in 2007.\\n\\nJurors...  ...  new connecticut judge new sentenced year old man death friday role deadly home invasion killed woman two daughters jurors convicted joshua komisarjevsky october six capital felony charges member j...\n",
              "2  ATLANTA, Georgia (CNN)  -- Dressed head to toe in black, designer Isaac Mizrahi is wearing an outfit that seems to contradict his personality -- and his usual fashion flair.\\n\\nIsaac Mizrahi has e...  ...  atlanta georgia dressed head toe black designer isaac mizrahi wearing outfit seems contradict personality usual fashion flair isaac mizrahi earned four awards council fashion designers america alw...\n",
              "3  (CNN)Marco Rubio is all in.  The Republican senator from Florida has announced that he is seeking the Republican presidential nomination, running on an optimistic message that he embodies the prom...  ...  marco rubio republican senator florida announced seeking republican presidential nomination running optimistic message embodies promise american dream youthful energy hispanic roots tempting see r...\n",
              "4  HAMILTON, Bermuda (CNN) -- Four Chinese nationals of Uyghur ethnicity who had been held at the U.S. military's Guantanamo Bay, Cuba, detention facility have been resettled in Bermuda, officials sa...  ...  hamilton bermuda four chinese nationals uyghur ethnicity held military guantanamo bay cuba detention facility resettled bermuda officials said thursday attorney general eric holder says extremely ...\n",
              "\n",
              "[5 rows x 4 columns]"
            ]
          },
          "metadata": {
            "tags": []
          },
          "execution_count": 9
        }
      ]
    },
    {
      "cell_type": "code",
      "metadata": {
        "id": "LYBN4oqbyXxF",
        "colab_type": "code",
        "outputId": "26ca4840-c1a9-430f-a968-f1423bfbf1d0",
        "colab": {
          "base_uri": "https://localhost:8080/",
          "height": 68
        }
      },
      "source": [
        "for i in df['cleaned_summary']:\n",
        "      summary_word_count.append(len(i.split()))\n",
        "\n",
        "length_df = pd.DataFrame({'text':text_word_count, 'summary':summary_word_count})\n",
        "\n",
        "\n",
        "print(\"step2.3\")\n",
        "\n",
        "\n",
        "#length_df.hist(bins = 100)\n",
        "print(\"step2.4\")\n",
        "#plt.show()\n",
        "\n",
        "print(\"step3\")\n",
        "\n",
        "#*****************************************"
      ],
      "execution_count": 0,
      "outputs": [
        {
          "output_type": "stream",
          "text": [
            "step2.3\n",
            "step2.4\n",
            "step3\n"
          ],
          "name": "stdout"
        }
      ]
    },
    {
      "cell_type": "code",
      "metadata": {
        "id": "uSRHcI0Syzf5",
        "colab_type": "code",
        "outputId": "064c30c6-e2f3-4259-cc6f-472cb78bee6b",
        "colab": {
          "base_uri": "https://localhost:8080/",
          "height": 68
        }
      },
      "source": [
        "cnt=0\n",
        "for i in df['cleaned_summary']:\n",
        "    if(len(i.split())<=50):               # if it = 50 it will be 0.9999513168784382\n",
        "        cnt=cnt+1\n",
        "print(cnt/len(df['cleaned_summary']))\n",
        "\n",
        "\n",
        "cnt=0\n",
        "for i in df['cleaned_text']:\n",
        "    if(len(i.split())<=800):               # if it = 50 it will be 0.9999513168784382\n",
        "        cnt=cnt+1\n",
        "print(cnt/len(df['cleaned_text']))\n",
        "\n",
        "max_text_len=800\n",
        "max_summary_len=50\n",
        "\n",
        "\n",
        "cleaned_text =np.array(df['cleaned_text'])\n",
        "cleaned_summary=np.array(df['cleaned_summary'])\n",
        "\n",
        "short_text=[]\n",
        "short_summary=[]\n",
        "\n",
        "for i in range(len(cleaned_text)):\n",
        "    if(len(cleaned_summary[i].split())<=max_summary_len and len(cleaned_text[i].split())<=max_text_len):\n",
        "        short_text.append(cleaned_text[i])\n",
        "        short_summary.append(cleaned_summary[i])\n",
        "        \n",
        "df1=pd.DataFrame({'text':short_text,'summary':short_summary})\n",
        "#print(df1)       # 19997\n",
        "\n",
        "df1['summary'] = df1['summary'].apply(lambda x : 'sostok '+ x + ' eostok')\n",
        "\n",
        "\n",
        "print(\"step4\")"
      ],
      "execution_count": 0,
      "outputs": [
        {
          "output_type": "stream",
          "text": [
            "1.0\n",
            "0.9779005524861878\n",
            "step4\n"
          ],
          "name": "stdout"
        }
      ]
    },
    {
      "cell_type": "code",
      "metadata": {
        "id": "oq9sc13mD848",
        "colab_type": "code",
        "outputId": "2e60e7b4-0b5c-45ab-e0cb-1923912d8916",
        "colab": {
          "base_uri": "https://localhost:8080/",
          "height": 1000
        }
      },
      "source": [
        "############split our dataset into a training and validation set. We’ll use 90% of the dataset as the training data and evaluate the performance on the remaining 10% (holdout set):\n",
        "\n",
        "from sklearn.model_selection import train_test_split\n",
        "x_tr,x_val,y_tr,y_val=train_test_split(np.array(df1['text']),np.array(df1['summary']),test_size=0.1,random_state=0,shuffle=True)\n",
        "\n",
        "\n",
        "#\n",
        "print(len(x_tr))\n",
        "print(len(x_val))\n",
        "print(len(y_tr))\n",
        "print(len(y_val))\n",
        "\n",
        "\n",
        "\n",
        "print(\"step5\")\n",
        "#Text Tokenizer\n",
        "# from tensorflow.keras.preprocessing.text import Tokenizer \n",
        "# from tensorflow.keras.preprocessing.sequence import pad_sequences\n",
        "\n",
        "# #prepare a tokenizer for reviews on training data\n",
        "# x_tokenizer = Tokenizer() \n",
        "# x_tokenizer.fit_on_texts(list(x_tr))\n",
        "\n",
        "# #############################################\n",
        "for i in x_val:\n",
        "  print(i)\n",
        "  print(\"**************************\")\n",
        "\n"
      ],
      "execution_count": 0,
      "outputs": [
        {
          "output_type": "stream",
          "text": [
            "477\n",
            "54\n",
            "477\n",
            "54\n",
            "step5\n",
            "lane remorseless killer escaped ohio prison serving three life sentences school shooting captured six long hours police scoured neighborhoods north end lima ohio asking residents lock doors stay inside brought extra officers provided patrols families lane victims end found yards away outside church prison warden said say anything put fight authorities said lane serving consecutive life sentences without possibility parole attack chardon high school february walked school cafeteria caliber gun randomly started shooting fired rounds killing three students year old scaled fence allen oakwood correctional institution lima miles northwest columbus warden kevin jones said maximum security facility something sit take look lane escaped along two men thursday back custody shortly friday never plan someone escaping certainly someone notoriety would think would take special precautions prevent ian friedman represented trial said late thursday huge case ohio everyone ohio shocked right friends family remember ohio school shooting victims prison infractions allen oakwood correctional institution houses inmates guarded security personnel correctional institution inspection committee report april said facility capacity inmates addition number inmate assaults staff increased last year compared escapes mentioned report months lane disciplined seven times according plain dealer newspaper infractions ranged urinating wall giving tattoo paper said lane escaped clifford opperud serving time aggravated robbery another man three captured chardon miles away lima upset happened said ron parmetor whose nephew daniel parmetor one lane victims parmetor says wants answers could lane escape two victims demetrius hewlin russell king jr chardon schools closed friday counselors support services provided school district superintendent said community shaken chardon community people miles east cleveland shaken shooting high school traumatized lane behavior court lane pleaded guilty last year three counts aggravated murder two counts attempted aggravated murder weapons related charges never offered explanation sentenced consecutive sentences life without parole additional sentences totaling years sentencing hearing lane unbuttoned blue dress shirt reveal white shirt scrawled word killer across front similar shirt shooting rampage sentencing addressed victims families using profane imagery ending expletive held middle finger everyone courtroom victims families prosecutors defense everyone courtroom absolutely taken aback said friedman talked lane year way fully comprehend happened courtroom afternoon lane tightlipped motive escape ohio school shooter shows contempt remorse sentencing\n",
            "**************************\n",
            "islamabad pakistan suspected drone strike pakistan tribal region killed six suspected militants wednesday intelligence officials told cnn two pakistani intelligence officials said suspected drone fired two missiles militant hideout south waziristan one seven districts pakistan volatile tribal region bordering afghanistan intelligence officials asked named authorized speak media wednesday strike first since march drone strike north waziristan killed people civilians two pakistani sources said strikes inflamed tensions pakistan united states pakistan formally asked united states apology march strike united states officially acknowledge central intelligence agency secret drone program targets al qaeda militants country operating region capability carry strikes senior pakistani intelligence official told cnn drone strikes carried americans widely believed tacit approval cooperation pakistani intelligence carried autonomously cia unilateral action said official expressed dismay wednesday strike message business usual irrespective ask crude way getting message across said official added pakistan asked united states curtail drone strikes remote tribal areas necessarily saying stop saying irrespective tactical games useful long run said need relook trigger happy selective drone strike came two days pakistan intelligence chief lt gen ahmed shuja pasha met cia director leon panetta cia headquarters voice government complaints cia activities country addition aerial attacks pakistanis angered say lack transparency number cia operatives extent american intelligence activities within country although pakistani relationship rocky ground time came head cia contractor raymond davis arrested killing two pakistani men lahore although united states said davis security officer assigned protect cia officers pakistanis maintained actually spy unaware prior shooting incident pakistani officials insisted week united states give details cia contractors country official authorized speak attribution said desire expand cooperation across wide range joint activities pakistanis would elaborate steps united states taking official would talk specifically drone strikes say panetta made clear meeting pasha fundamental responsibility protect american people halt operations support objective official said united states obligation protect american troops fighting militants afghanistan side border pakistani side border bad people planning bad things troops would remiss take steps thwart activities said official official raised questions pakistani expect foot soldiers carrying bombs across border expect sit idly official said pakistanis take action extremists operating territory united states pakistan needs talk less think official said based count cnn islamabad bureau wednesday suspected drone strike th year compared cnn nick paton walsh contributed report\n",
            "**************************\n",
            "buenos aires dozens roman catholic bishops south america say human trafficking seen alarming growth region bishops argentina brazil paraguay uruguay issued statement meeting argentina last week calling practice shameful outrageous reality pledging fight warn existence organized mafias use smaller networks present nearly cities towns statement said learn cnn freedom project citing reports global nonprofit groups bishops noted child sex trafficking rings also operating area bishops pledged raise awareness problem push legal reforms assist victims noting within church absence proposals dedicated attracting young people absence decisive broad response problem approach surprising said sergio rubin journalist written extensively catholic church argentina church assuming role believe must work lot formation religious values rubin said mario ganora lawyer works la alameda argentinian nonprofit helps victims human trafficking said increase human trafficking connected increase drug consumption women used sex trafficking also used delivery drugs said according official data argentina ministry justice human rights people rescued human trafficking networks argentina april higher number entire previous trimester\n",
            "**************************\n",
            "los angeles california john travolta still mourning death teenage son earlier year issued rare public statement urging fans see latest movie taking pelham filmed last year john travolta stars villainous ex inmate taking pelham opens theaters friday promise disappointed said travolta plays deranged ex inmate takes hostages new york subway travolta join co star denzel washington promotional tour movie hits theaters friday said family needed additional time reconcile loss son jett found unconscious january vacation family bahamas teen taken hospital pronounced dead arrival local police said washington plays subway train dispatcher forced face travolta character said talked actor three weeks ago needless say struggling washington said interview last week travolta statement read official web site said washington director tony scott producers stepped without hesitation help promote wonderful film unselfish efforts allowed family additional time reconcile loss making movie labor love travolta said tony gave freedom define become ultimate evil mastermind said role actor gave chance dispense moral ethical limitations explore bad character could really believe like result much movie dialogue washington travolta character two way radio many action shots filmed new york subway tunnels\n",
            "**************************\n",
            "finding hard breathe really thought thought coming said earthquake survivor anne vos speaking hospital bed christchurch new zealand rescued rubble five story building collapsed tuesday magnitude earthquake vos spoken media mobile phone trapped desk pyne gould corporation building drawing international attention plight hours spent rubble vos said gave hope accepted would die lucky lucky said said remembered vividly moment quake struck taken reception desk allow colleague go lunch logging onto computer rumbling started happened quickly heard rumble stuff falling ceiling thought best go desk rather try get time think lucky go stairs would time know might happened lot concrete pieces fell desk sort bent completely around arm trapped huge piece concrete starting swell could feel hand could get feet lot broken glass electrical wires could move stuck little cubby hole said severe pain struggling breathe vos realized may survive began call close friends family mobile phone less saying goodbye wanted tell people loved say goodbye unable reach melbourne based son robert left goodbye message voicemail time initial calls vos says passed awakened shaking says know whether aftershock building collapsing whatever changed fortune came moved able wriggle bit came could breathe started think maybe could make whole time thinking family friends wanted make hoping someone would rescue soon vos next hours remarkable son robert gave number melbourne radio station soon conversations broadcast internationally spoke media underneath crushed desk phone battery died listen anne vos talking media vos rescued early wednesday afternoon taken hospital cracked ribs heavy bruising multiple cuts said feeling relief hard describe especially saw state building know going trapped desk know got shock building anymore job search teams fantastic vos says needs assess damage possessions experiencing two major earthquakes many aftershocks may decide move away area know stay scared feel bit like nothing keeping know place survived anxieties also bit worried could work think would afraid go tall building said\n",
            "**************************\n",
            "bamako mali malian authorities found mass grave containing bodies thought soldiers killed junta chief power military coup ministry defense spokeswoman said wednesday investigators found bodies grave close military camp village diago north bamako spokeswoman alasane diarra said last week gen amadou sanogo led march coup arrested charged complicity kidnapping failed counter coup shortly seized power pitted two army factions green berets loyal sanogo red berets loyal ousted president amadou toumani toure military camp diago green berets red berets soldiers know group soldiers grave belonged diarra said investigations alleged kidnapping killings military takeover plunged west african country chaos ongoing since april investigators working case since april coup known grave finally went opened grave bodies previously thought diarra said bodies male different ethnic groups said bodies removed grave forensic investigators start process identifying men families soldiers disappeared coup asked come identify family members diarra said\n",
            "**************************\n",
            "washington president obama place tariffs imports chinese tires three years effort curb surge exports rocked tire industry white house announced plans impose tariffs tires entering united states china new tariffs passenger car light truck tires white house said statement friday night president decided remedy clear disruption tire industry based facts law case statement said tariffs start percent first year would decline percent second year percent third chinese leaders past expressed displeasure possible tire tariff hope government refrain taking action long term healthy stable development chinese relations fu ziying china vice commerce minister told local media august case neither supported facts valid legal grounds added\n",
            "**************************\n",
            "tokyo japan sony blamed global economic slowdown increased competition appreciating yen percent drop third quarter profits company announced results thursday customers check sony bravia brand lcd tvs electronics shop tokyo japan profits quarter ended december fell nearly billion yen billion yen across company sales percent electronics games sales especially hard hit sales games including company popular playstation series fell percent year sales electronics decreased nearly percent appreciation yen also cut profits stronger yen makes japanese products expensive forces companies lower profit margins keep prices last week sony warned close fiscal year ends march operating loss billion yen first years watch lies ahead sony\n",
            "**************************\n",
            "days giving birth second child dr jane dimer drove home hospital find husband bed another woman threw dimer stairs never saw court rihanna allegedly attacked boyfriend singer chris brown grammys february dimer obstetrician gynecologist group health cooperative seattle washington abusive relationship husband germany years pushed years ago emotionally remnants stay long time said domestic violence common cause injury women ages according national institutes health entertainment world buzzing pop sensation rihanna whose boyfriend chris brown formally charged assaulting public interest domestic violence reinvigorated abuse influence victim future behavior relationships even friendships depending whether victim stays leaves said mark crawford clinical psychologist based roswell georgia stay likely stop trusting perceptions become passive romantic nonromantic relationships victims leave healthier choice crawford said often become accommodating want avoid conflict even verbal disputes costs women trust people easily able handle even normal expressions anger visit cnnhealth com connection better living need get relationship make sure aware anger learn freely express healthy normal way said somebody still issues years later worked healed need new research shows abuse victims feel impact violence long occurred recent study journal women health found older african american women exposed high levels family violence point lifetimes whether partner family member greater risk poor mental physical health status ongoing violence everybody thinks even something happens seems lingering effect quite understand yet said dr anuradha paranjape co author study associate professor temple university school medicine makes sense abused women would report worse health given people stressful situations higher levels stress hormones interfere immune function crawford said studies show clear connection depression abuse adult women abused relationship past five years rates depression times greater women never abused according different study women also likely socially isolated said author amy bonomi associate professor ohio state university women abused prior past five years depression rates times greater without abuse experience said bonomi collaborated dimer research abused women people like sort think well abuse black eye sustain broken bone bonomi said see lots different effects areas like depression social isolation actually proven data women suffered violence also seem greater likelihood substance abuse unclear two related one necessarily cause could factors involved bonomi said study women bonomi worked found middle aged women suffered child abuse sexual physical abuse greater likelihood depression well higher body mass index women also spend one third average health care costs percent women sample said abused paranjape study found women highest levels abuse reported poor health number diseases reported among women women sample less abuse indicates something else makes abused women report feeling unwell said patient says feel good might want think asking issues may going said people gotten relationship go work learning issues set situation reflect warning signs crawford said experts recommend finding counselor means support people abused think twice revealing much online support groups abusers could discover saying dimer said research also shown violence escalates abusive relationships among couples go marriage counseling said women feel stronger experience abuse dimer said found healing advocacy research subject said calling domestic violence hot line good first step anyone experiencing abuse dimer said whether pop star somebody working front lines employee grocery store selling pop star magazine equal risk said\n",
            "**************************\n",
            "group passengers aboard asiana airlines flight crash landed last summer sued aircraft manufacturer boeing according lawsuit filed illinois court asking damages paid passengers asking court hold boeing partially liable monica kelly attorney chicago based ribbeck law chartered told cnn saturday personal injury lawsuit filed friday cook county circuit court asiana crash video firefighters saw injured girl run asiana airlines flight crashed san francisco july boeing operated asiana fell short approach crashed runway san francisco international airport three people killed others hurt lawsuit alleges equipment plane improperly installed defective resulting inadequate warnings pilots low airspeed boeing aware low airspeed warning system inadequate suit states plane passengers named plaintiffs lawsuit pilot concerned landing jet crash result crash plaintiffs sustained injuries including limited bodily injury resulting pain suffering disability mental anguish loss capacity enjoyment life medical treatment loss income medical expenses suit states cnn reached boeing comment lawsuit company spokesman doug alder declined comment passengers represented ribbeck law began court proceedings shortly crash filing petition boeing release evidence plaintiffs time law firm said considering adding asiana certain parts manufacturers lawsuit friday filing named boeing kelly said automated cockpit systems key asiana probe\n",
            "**************************\n",
            "june president lyndon johnson explained new york times reporter james scotty reston stay course vietnam stabilizing south vietnamese government could fight communism johnson rejected calls withdrawal made liberal democrats well proposal neutralization promoted france charles de gaulle thing got left johnson said try make thing efficient effective hold strong keep government stable try improve day night recent speech west point president obama rejected lessons kinds stories tell us afghanistan president saying comparison vietnam relies false reading history pointed three differences first part broad international coalition second vietnam faced broad based popular insurgency whereas today according polls large number afghans support foreign assistance last obama added today americans responding real threat began vicious attack clearly obama feels defensive analogy hopes undercut liberal critics frustrated disappointed decision trying separate experience johnson however obama give accurate account many commentators saying recently downplayed crucial aspects fact offer warnings today mark twain said history repeat rhymes compared afghanistan vietnam say situations exactly politically strategically inevitable surge afghanistan unsuccessful point comparison impossible ignore fact obama faces similar challenges johnson americanization vietnam began spring presidents entered war despite fact many top advisers white house congress strongly warning escalation johnson heard voices ranging idaho liberal frank church georgia hawk richard russell vietnam critical fighting communism war unwinnable warnings proved accurate going decision obama heard comparable criticism well presidents also expanded war trying shape broad domestic agenda johnson much ahead game increased number ground troops war inherited war devastated johnson domestic efforts obama faces threat wars justified wars necessity vietnam proponents warned fall southeast asia communism would vastly strengthen soviet union china era american schoolchildren taught duck cover desks case nuclear war warning vietnam also made war seem essential today necessity stems claim failure would resurrect dangers faced presidents escalated wars path victory potential costs terms human capital budgetary obligations unclear despite fact johnson confronted different kind enemy risk today enormously high afghanistan dealing war front notoriously treacherous soviets learned learned since also depending highly corrupt undependable government afghanistan promise withdrawal july might accurate presidential assurances benchmarks end games historically come true one constant warfare unpredictable difficult control one day obama speech defense secretary robert gates indicated deadline firm administration might well handcuffing strategy warfare keeps offering grave warnings victory taliban would mean warnings make difficult long run administration contain operation withdraw forces unless absolutely clear taliban defeated democrats could find feeling like predecessors political pressure abide containment arguments outlined president harry truman truman doctrine first korea vietnam obama defensive comparisons vietnam rather use johnson experience help guide makes crucial decisions months ahead attempts navigate challenges wartime presidency conversation closest advisers johnson said damned easy get war gonna awfully hard ever extricate get johnson made mistake excluding trying warn dangers war let us hope time around obama repeat error opinions expressed commentary solely julian zelizer\n",
            "**************************\n",
            "bogota colombia largest producer cocaine world key supplier heroin united states according cia colombia produces metric tons cocaine year market south american country retained status key cocaine producer spite ambitious anti drug agreement launched decade ago financial support united states agreement called plan colombia since plan cost united states billion according inter american dialogue washington think tank closely monitored implementation plan colombia money mostly used help colombia strengthen police military implementation plan colombia colombian territory government security presence marta lucia ramirez former colombian minister defense one architects plan colombia says agreement helped country strengthen democracy government institutions also increased colombian government ability fight calls narco terrorism ramirez also says high drug demand makes difficult eradicate production home really believe american strategy drugs enough probably failure policy review says ramirez colombia welcomes drug czar gil kerlikowske week kerlikowske role director white house office national drug control policy progress evaluation plan colombia part trip ahead visit kerlikowske told colombian newspaper el tiempo sees commitment part government president juan manuel santos took office august going talk continuation relationship countries terms reduction also terms prevention demand said kerlikowske security experts including colombian aurelio suarez say plan colombia improved security fallen short original goal reducing drug production region known balloon effect increased army attacks drug traffickers colombia moved coca poppy crops elsewhere quantity drug production andean countries like bolivia peru colombia years ago says suarez salud hernandez journalist traveled extensively areas coca grown witnessed balloon effect says drug traffickers move countries also relocate within colombia still drug dealers colombia still lot drug trafficking still lot crops many regions country says hernandez even troublesome washington based inter american dialogue says roughly cocaine sold united states still comes colombia michael shifter organization president says plan colombia many critics rightly point policy failure meet fundamental purpose program developed reduce availability drugs particularly cocaine communities says shifter colombia new push refocus government efforts improving socioeconomic conditions population means making organized crime guerrillas associated drug traffickers less appealing peasants live marginalized areas colombia problems go well beyond drug trafficking security colombians live poverty regular employment security improved many colombians security analyst suarez say time colombian government address issues social inequality long term development way slow seemingly never ending production illicit drugs colombia\n",
            "**************************\n",
            "vilseck germany military released detainees locked iraq war enough evidence hold cnn learned cases anything eventually released said brig gen david quantock oversees detainee operations iraq quantock said many cases driven purely intelligence intelligence win fight courtroom win fight courtroom united states win iraq according military detainees released captured iraq war cnn investigation found frustration army policy detainees may led killings four iraqi men three decorated army sergeants baghdad canal former st sgt john hatley led mission day told cnn letter detainee policy extensive flaws repeatedly frustrated soldiers army interrogation tapes obtained cnn soldiers complained army rules evidence gathering despite high release rate quantock said confidence soldiers take basic evidence crime scene iraq asking take basic evidence trained said quantock oversees detainee operations iraq got greatest soldiers world accept cannot take basic evidence crime scene cnn asked quantock explain easy collect evidence many detainees released took us realize goes back point trying make fight fit army opposed army fit fight quantock said think lot times thought insurgency would dissipate working closely government iraq trying improve iraqi security forces end day work well get better taking evidence crime scene january memo imposed detailed standards evidence soldiers needed taking suspected insurgents iraq quantock told cnn rules detailed memo effect end memo spells evidence criminal activity include photos physical evidence detainee crime scene place capture well photos detainee next evidence evidence include statements written first hand witnesses criminal activity memo states start year rules got even stricter security agreement government iraq requires arrest warrant signed iraqi judge detain someone asked killings canal quantock told cnn never excuse execute anyone become judge jury executioner\n",
            "**************************\n",
            "washington sen lisa murkowski alaska wednesday declared victory fellow republican joe miller nation last senate race saying result write candidacy miracle odds alaskans together made history murkowski told cheering supporters anchorage prevails potential challenge murkowski would become second person ever win write bid senate murkowski statement climax state bitter prolonged senate battle essentially triumphant declaration beating back three pronged attack miller tea party express sarah palin said along wait votes counted murkowski campaign manager kevin sweeney told cnn standard clear victory whuppin sweeney added currently alaska division elections counting votes murkowski versus miller count murkowski leads however murkowski votes contested miller campaign miller side would like contested votes thrown almost impossible scenario many election legal observers murkowski would still win race uncontested votes alone see numbers add sweeney told cnn referring miller hopes pulling win despite rising tide associated press called race murkowski outcome stands face legal challenges despite count outstanding ballots potential recount miller would second time person write campaign senate strom thurmond south carolina write campaign point miller conceding nothing interview neil cavuto fox news miller said less cautiously optimistic given vote tallies miller emphatic ensuring integrity vote counting process asserting difference less percent said may request recount wants ensure military ballots mailed difference votes murkowski may shift consistent standard evaluating write ballots applied evaluating write ballots controversial alaska division elections tallied ballots contained misspellings variations lisa murkowski credited votes issue evaluating voter intent infuriated miller campaign prompting launch federal lawsuit hopes annulling count misspelled incongruous ballots miller campaign blasted division elections standards extraordinarily ambiguous miller loss would huge slap sarah palin tea party express palin endorsed miller murkowski state gop senate primary national tea party group followed suit murkowski lost primary august conceded race shortly murkowski launched write bid retain seat murkowski first appointed post father gov frank murkowski palin defeated gop gubernatorial primary cnn kristi kreck contributed report\n",
            "**************************\n",
            "novak djokovic domination men tennis made hero homeland serbia world achievements recognized wednesday awarded nation highest honor winning three four grand slam titles clinching australian open melbourne last month djokovic given order karadjordje star st degree serbian president boris tadic latest accolade handed djokovic also named laureus sportsman year last week winning matches row start losing six year may dreamed lifting trophy wimbledon could never thought country would reward great honor year old five time grand slam winner told official website indebted people best continue representing beautiful country best possible way tadic praised djokovic saying novak deserves medal special merits representing serbia serbian tennis federation president vuk jeremic described djokovic part serbia davis cup winning team greatest sporting hero country produced tennis become popular sport serbia source collective pride jeremic told cnn djokovic impact people identify novak draw great inspiration never give attitude role model unbreakable devoted patriotic charismatic well impact djokovic court jeremic also hailed positive impact serbia image around world athlete history become national hero far serbia image abroad concerned think better public diplomacy vehicle djokovic next action dubai tennis championships end month event last three years\n",
            "**************************\n",
            "lukas hartmann signed andme home genetic testing service surprises results berliner learned would probably die mix heart attack prostate cancer wrote friend blog nothing special months ago received update company hartmann genetic code showed two mutations linked limb girdle muscular dystrophy says site told people limb girdle muscular dystrophy lose ability walk suffer serious disability results page read cannot true thought must error genetic testing powerful tool offer information family history tell body might respond different drugs identify risk factors disease also misleading food drug administration monday ordered andme stop sales home genetic testing kits saying google backed company proven validity product fda warned customers received inaccurate results could suffer undue mental anguish undergo unnecessary medical procedures government agency asked andme revise marketing strategy comply federal regulations action triggered outrage among andme supporters gmos aspartame artificial flavors colors pink slime problem poster named laura ann wrote company facebook page way allowed right know genetic material means making better decisions health statement andme said received fda letter working address agency concerns billion letters genetic code though years since human genome project completed scientists still understand every gene mutation might mean someone health one issues opponents home genetic testing kits raise often dna experts understand gene mutation means expect consumers cool things dna testing scientists identified single gene disorders says rebecca nagy president national society genetic counselors disorders diagnosed based mutation single gene body examples include huntington disease cystic fibrosis conditions type diabetes alzheimer complex hundreds genes may contribute development diseases nagy says person risk also influenced environment testing markers risk scattered across someone genome really testing tip iceberg gets little scary person normal test result andme leave thinking risk says science behind good science behind complete upside home genetic testing kits andme company sells generated lot buzz genetics nagy says says believes early adopters tests information savvy understand results set stone think anyone thinks kit replaces formal testing doctor heather armstrong posted andme facebook page seriously doubt doctor would agree perform say double mastectomy based results joseph stolarski posted find something interesting take medical professional evaluation one rely medical diagnosis tool like personally checking heart rate watch checking weight scale nagy says worries happen tests become mainstream giving kind information someone unfamiliar genetic testing limitations could prove dangerous nagy recommends anyone wants genetic testing first talk genetic counselor counselors specialized graduate degrees extensive knowledge human genome also trained explaining test results laymen message smart consumer nagy says know get results back really use best benefit hartmann intense investigating saying looked raw data andme provided eventually found indeed two mutations says gene says submitted bug report company apologized general hartmann thinks good thing every person affordable access genetic data browsed community forums andme com seen seriously people take results without fully understanding hartmann says believes get limb girdle muscular dystrophy although says risk could pass genetic mutations onto kids live wrote quite time hope parents push standardized screening jewish genetic diseases cnn dorrine mendoza cnnmoney james toole aaron smith contributed report\n",
            "**************************\n",
            "belfast northern ireland protests broke friday throughout northern ireland decision belfast city council members stop flying union flag year round protests peaceful although disruption caused road network belfast across country police said statement one serious incidents occurred neil road newtownabbey protestant rioters many teenagers threw concrete blocks paving slabs bricks planks wood gasoline bombs molotov cocktails police targeted armored police vehicles many police officers clad riot gear least one officer appeared injured head bowed officer helped away comrades amid rain temperatures freezing police brought two water cannon deploying one push back rioters police trying gain control main highway pictures flag protests northern ireland four police officers hurt one requiring hospital treatment two people arrested police said thirty three gasoline bombs thrown police demonstrations roads reopened read clinton urges calm amid tensions northern ireland eruptions occurred two nights calm followed five consecutive nights rioting belfast center wave protests prompted city council december decision limit flying flag days per year disorder resulted arrests left officers injured flag raised wednesday first time since controversial vote mark birthday prince william wife catherine lowered end day leaders two main unionist political parties met thursday discuss concerns within unionist community read political forum aims stem ireland violence northern ireland authorities accused loyalist extremists exploiting decision belfast officials end century old tradition flying union flag city hall days year british flag long flashpoint british loyalists irish nationalists want northern ireland join irish republic belfast city council vote followed summer heightened tensions northern ireland catholic protestant communities riots september left dozens police injured majority ireland gained independence following two years conflict six nine counties province ulster chose stay united kingdom eventually becoming northern ireland police extremist group orchestrating violence belfast union jack late conflict mainly protestant loyalists want northern ireland remain part united kingdom largely roman catholic nationalists want reunited rest ireland exploded political sectarian war known troubles three decades ensuing violence loyalists ira claimed lives north border good friday agreement also known belfast agreement effectively ended conflict distrust remains catholics protestants terms accord groups sides dumped weapons members sinn fein political affiliate ira work pro british politicians northern ireland power sharing government cnn laura smith spark wrote london nic robertson peter taggart reported belfast\n",
            "**************************\n",
            "north korea latest nuclear test coming heels december successful satellite launch suggests pyongyang moving forward toward developing nuclear warhead deliverable missile system experts say question remains close answer like cloistered hermit kingdom remains largely mystery much nuclear program question delivery system reliability systems said daniel pinkston senior analyst international crisis group covering northeast asia essentially unknown known people inside north korea south korean rocket successfully puts satellite orbit report international crisis group suggests north korea probably somewhere six twelve nuclear weapons least explosive devices notes experts divided whether usable warheads small enough mounted missiles durable enough withstand hazards flight pretty clear advanced technologies systems present number engineering challenges master technologies requires number tests pinkston said north korea google maps monuments nuclear complex gulags december first anniversary death former leader kim jong il north korea successfully launched three stage rocket put satellite shining star orbit launch also signaled north long range missile program puts united states within reach last month united nations security council unanimously passed resolution strengthened sanctions north response december rocket launch declaring sanctions tantamount declaration war north korea threatened missile nuclear tests said new phase confrontation united states north korea game tuesday underground nuclear test north korea third following tests test probably conducted vicinity unggye yielded several kilotons according assessments cited director national intelligence koreas watch generational politics estimates size yield nuclear test range kilotons kilotons pinkston said comparison atomic bomb dropped hiroshima yield kilotons specter north korea able send nuclear tipped missiles worrisome equally troublesome international community pyongyang atomic technology fueling black market weapons clandestine uranium enrichment program made strides pyongyang could demonstrate gain access far larger pool fissile material simply limited supply weapons grade plutonium wrote patrick cronin asia expert center new american security cnn op ed larger pool fissile material dual threat vital part expanded nuclear weapon program commodity sold black market timeline north korea rocket fueled obsession cnn jethro mullen contributed report\n",
            "**************************\n",
            "sen tim kaine said wednesday legal authority current mission isis iraq syria engaged war imminent defense united states without legal authority virginia democrat said wilson center wednesday ahead panel discussion legal authority military intervention moderated cnn jim sciutto mission covered either wording intent authorizations use military force white house argues kaine said adding argument ridiculous inconsistent president barack obama previously stated interpretation aumf kaine member senate foreign relations committee proposed new limited authorization specifically targeted current mission isis deal right away said stressing could accomplished lame duck session congress rand paul isis response war illegal also calling changes war powers resolution result better process war authorization statement last week kaine said encouraged obama recent willingness work congress new authorization also troubled suggestions today congress wait new congressional session take vote already asked many service members risk lives without political consensus behind mission added expect lame duck congress current aumf passed days attacks though language authorization covers military action planned authorized committed aided terrorist attacks occurred september harbored organizations persons recent years used cover action group individual administration considers associated al qaeda second authorization use military force iraq passed permitting president defend national security united states continuing threat posed iraq enforce relevant united nations security council resolutions regarding iraq\n",
            "**************************\n",
            "immediately september terrorist acts sikhs came attack mistaken muslims beards turbans became ripe targets zealots seeking revenge first person murdered retaliation attacks sikh gas station owner mesa arizona named balbir singh sodhi shot five times aircraft mechanic frank roque intervening years sikh coalition new york based advocacy group reported attacks bias related incidents belief blog sikhs sikhs houses vandalized others spat upon extreme cases sikhs set upon groups people beaten incidents waned community hoped worst behind sunday man shot killed least six people sikh temple outside milwaukee wounded police officer killed another officer bullets wade michael page army veteran gunman killed officer scene police said monday witnesses said gunman tattoo one arm police received information suspect may involved white supremacist movement confirmed oak creek police chief john edwards said shooter motives yet known clear incident dredged sense shock sadness sikhs felt years ago rajwant singh maryland sikh council religion education said sikhs growing united states feel though belong everybody feel home said sunday nation belongs everyone little seems changed united states home sikhs nearly indian origin men easily identifiable beards turbans tradition lasted years today american sikhs attire appearance also meant often mistaken muslims targets anti islam attacks appearance looks like osama bin laden afghanistan suminder sodhi friend arizona victim said time first attack different people muslim people different beliefs different religion many incidents go unreported fbi specifically list instead lumping anti islamic crimes exact numbers hard come earlier year new york rep joe crowley sent letter justice department begin tracking crimes sikhs asked fbi update hate crime incident report form designation crimes sikhs groups information law enforcement agencies violence sikh americans help prevent crimes bring commit justice crowley said instances long list attacks sikhs faced since september roque guns sodhi outside mesa gas station roque drives station fires five times flees goes shoot lebanese american gas station clerk fire home afghan american family later day serving life sentence december two men beat store owner surinder singh times metal poles los angeles utter kill bin laden today march vandals scrawl words country blue spray paint wall gurdwara sahib temple fresno california temple also vandalized year earlier july rajinder singh khalsa beaten unconscious six men new york city taunt friend turban beating leaves khalsa multiple fractures august iqbal singh stabbed neck steak knife san jose california standing carport house attacker later tells police wanted kill taliban october ajit singh chima punched kicked head daily walk carteret new jersey attacker take anything chima january jasmir singh attacked outside new york grocery store men shouting racial slurs two years later father attacked november two passengers beat harbhajan singh sikh cabdriver sacramento california one calling osama bin laden march gurmej singh atwal surinder singh gunned elk grove california afternoon walk robbed enemies family members say february sikh temple construction sterling heights michigan defaced graffiti wall depicting gun christian cross someone also scrawls mohmed perhaps reference muslim prophet mohammed sikhs react wisconsin temple shooting sikhism world fifth popular religion monotheistic faith believes equality service others sikh officials say cnn julie contributed report\n",
            "**************************\n",
            "gentle yet fiercely warm surrounds southern ugandan countryside mwanja banuli looks farmhands fill truck sugar cane packing rough woody crop heavy going making sure every inch space utilized key transport costs money humble sugar farmer lots costs consider many challenges business banuli says rent land costs need pay people clear land hire tractor ploughing tilling land add expenses big investment searching sugarman uganda sugar big business particular batch headed kakira sugar limited one country oldest largest factories kakira founded muljibai madhvani immigrant indian subcontinent late company still going strong day see background first mill installed crush tons cane explains kenneth barungi assistant general manager kakira site company nearby factory started expanding every years every years modernizing acquiring land introducing irrigation expanding crushing capacity producing tons sugar sugar produced uganda time contributed national gdp manufacturing industry added dawn dictatorship time however history intervened shape one th century brutal rulers military coup army commander idi amin dada seized power former heavyweight boxer made uganda president brutal dictatorship followed often erratic amin praised hitler said german dictator right burn six million jews even bizarrely offered king scotland asked within year expelled country asian population numbering around almost years madhvanis longer welcome uganda stayed risk idi amin told every asian leave left country went mainly uk barungi continued adding believes uganda began economically fall apart industries collapsed international trade collapsed longer available foreign exchange import machinery even imported machinery technical expertise run industries within years kakira sugar industries collapsed infrastructure uganda social services everything collapsed new start idi amin deposed however ejected population slowly started coming back uganda among returnees madhvanis country left behind however different place factory skeleton barungi said longer sugar plantation houses occupied anybody business run empty shell madhvanis quickly borrowed money world bank african development bank set rebuilding business grown rapidly last years produces tons sugar barungi said effects macabre harrowing events recent history still linger sweeter deal reports suggest black ugandan workers resented certain sections indian mercantile class treated days however kakira says strives promote responsible philosophy interacts workers right way engage people employ believe also improves productivity staff mobility kakira built schools hospitals cater staff families company also founded kakira outgrowers rural development fund ngo provides likes workshops loans services contractors besides nearly staff members kakira almost many contract workers shape farmers like mwanja banuli farm lands neighboring plantations contracted kakira supplying sugarcane needs able sustain business want agricultural farmers plantation workers want factory workers vision muljibhai mudhvani develop human resources barungi said enlightened approach saw kord awarded best ngo business partnership award ugandan manufacturers association positive impact individual lives offers biggest reward many community kord useless said beatrice katende received assistance body programs used work casual laborer people community digging gardens get income kord came existence learned farm save self sufficient offering hand people like katende kakira hope help well provide assistance areas local economy main vision always make sure labor supply always available work factory excess go work industries country barungi said marketplace africa\n",
            "**************************\n",
            "london england stepping london subway train five years ago thirtysomething marketing manager never imagined morning commute might eventually lead paralympic games exactly britain martine wright setting sights wright lost legs suicide bomber blew subway train near london aldgate station morning july also suffered fractured skull severe arm injuries though one seriously hurt day wright aiming spot british paralympic volleyball team would love absolutely love part paralympics wright told cnn affiliate itn last month mean said five years ago would thought absolutely mad go back london born something positive left negative would absolutely amazing four bombs set day july three subway trains bus fifty six people killed including four bombers wounded bombings happened day international olympic committee announced london would hosting olympic paralympic games wright said made promise family attacks grab every single opportunity could think done told itn learned fly planes jumped plane learned ski competed place britain sitting volleyball squad british volleyball federation announced place team last month week team competing sitting volleyball world championships state oklahoma athletes countries taking part event biggest major international competition london according lisa wainwright chief executive volleyball england sport national governing body john bestebroer head coach women team calls championships great training opportunity sitting volleyball version sport allows anyone participate including disability men event part paralympics since women since according british volleyball international volleyball rules apply sitting version certain amendments disabled players play player must touch court body part buttocks shoulders players allowed block serves also sitting volleyball played smaller court lower net wright told london evening standard games added poignancy last real memory bombings celebrating colleagues london chosen host olympics last person pulled station day wright said feels one lucky ones even darkest days always someone worse unfortunately wright told itn people day definitely worse still\n",
            "**************************\n",
            "spain officially clear ebola world health organization declared tuesday new cases reported since nurse assistant contracted virus tested negative since days passed double maximum known incubation period virus without another case allowing spain declared free ebola spanish authorities monitoring people came contact healthcare worker teresa romero ramos considered high risk quarantined madrid hospital said another hospital employees helped care romero month long stay carlos iii hospital also monitored statement said commends spain measures put place identify potential cases prevent transmission ebola virus romero contracted illness helping care infected missionary brought back west africa died disease cnn anna maja rappard contributed report\n",
            "**************************\n",
            "south african golf handed another boost tuesday country awarded right host one lucrative world golf championships events next five years news comes charl schwartzel joined british open winner louis oosthuizen reigning major champion dramatic victory masters sunday without doubt significant milestone history professional golf south africa sunshine tour commissioner gareth tindall said return augusta following meetings pga tour international federation pga tours something working long time unanimous support received professional tours around world confirms major standing players sunshine tour world golf even significant commitment host world golf championships event period five years enormously positive implications game country whole mcilroy conquer mental minefield known tournament hope try build awareness poverty hiv aids africa three four wgc events held prize money higher season four major tournaments hsbc champions china comparable date venue south africa first staging next year yet announced feature top players world meanwhile year south african open moved back week ensure tournament clash president cup australia due held november several players country expected feature international team take united states alfred dunhill championship played week melbourne event\n",
            "**************************\n",
            "defending champion rafael nadal cruised third round clay court rome masters event victory philipp kohlshreiber world number three seeking fifth title six years italian capital made unforced errors compared german nadal broke opponent serve twice one sided first set german world number improved second set missed chance take lead wasted break point match nadal ever lost rome masters broke next game pressed take match elsewhere fifth seed robin soderling sweden beat italian wild card paolo lorenzi reach third round swede smashed winners wrapped victory less one quarter hours guillermo garcia lopez spain also progressed win former wimbledon open champion lleyton hewitt second seed novak djokovic fourth seed andy murray reached third round tuesday world number one roger federer crashed latvian ernests gulbis\n",
            "**************************\n",
            "girl scout cookie cannot seem catch break fire years past including trans fats high fructose corn syrup palm oil cookies girl scouts current cookie selling season fire policies nothing actual composition cookies group calling honestgirlscouts com posted youtube video calling boycott girl scout cookies response colorado troop decision allow year old transgender child troop gay rights transgender rights groups reported grassroots lgbt movement supporters buying girl scout cookies response video decided purchase many boxes modest budget allow donate local lgbtq community center says mara morken lesbian stay home mom fargo north dakota want show support gsusa honorable decision allow girls participate programs however want support show thighs donate entire cookie order initial burst publicity around nearly minute video featuring teen girl scout wearing girl scout sash video made private youtube however still available viewing elsewhere internet ask fellow girl scouts want true girl experience sell girl scouts cookies gsusa addresses concerns says girl identified teen named taylor troop member california news reports ask parents want girls safe environment tell leaders allow girls make money gsusa video prompted case bobby montoya whose mother told cnn affiliate october troop leader initially told bobby could join troop bobby boy parts even though child identifies girl girl scouts colorado blamed initial decision exclude child ignorance scouts policy state scouts said bobby welcome join girl scouts child identifies girl child family presents girl girl scouts colorado welcomes girl scout said colorado girl scouts statement cnn affiliate honest girl scouts website says girl scouts use cookie income promote abortion lgbt agendas introduces girl scouts concept sexual rights children without parent consent rewriting badge books include radical activists gay role models website honestgirlscouts com states group comprised current former girl scouts leaders parents volunteers lifetime members contacted via listed gmail account comment someone replied group legal counsel advised us comment interviews notice mara keisling executive director national center transgender equality dismissed video attempt conservative activists raise funds issue withstanding girl scouts really good organization says keisling really good place kids learn things die society progressing outdated reactionary attitude poor girl put video attitudes dying lgbt groups taking tongue check approach debate encouraging people eat girl scout cookies girl scout cookies may great waistline great inclusive says liz owen spokeswoman parents friends lesbians gays owen reports hearing people decided break new year resolutions go diet girl scout cookies purchase\n",
            "**************************\n",
            "islamabad pakistan least people dead least others wounded wednesday three blasts shiite procession authorities pakistan said khalid ranjha lahore government official said two dead children two others women seven injured critical condition three explosions occurred within radius meters three blasts work suicide bombers said nayab haider spokesman lahore police police tried stop first suicide bomber procession ending blew police officer caught crowd haider said three four minutes later second blast erupted followed minutes later yet third suicide bomber police found two heads one body separately said haider said authorities assigned police officers procession receiving warning might attacked khusro pervez senior government official said incidents took place around time daily breaking ramadan fast security may lax end procession security vigilant pervez said incident happened security breach pakistan largely sunni muslim nation attack shiite muslims conjures thoughts long standing tensions two groups middle east asia paramilitary forces deployed streets bring order local tv channels showed pictures angry people burning vehicles beating police trying break police station cnn samson desta contributed story\n",
            "**************************\n",
            "washington former republican sen ted stevens alaska cleared justice department request dismiss federal corruption convictions drop charges lawyer said wednesday former sen ted stevens alaska lost election bid november prosecutors accused stevens failing disclose hundreds thousands dollars freebies oilfield services company senate ethics forms december unnamed fbi whistle blower accused prosecutors withholding evidence defense justice department asked judge dismiss charges stevens wednesday name cleared stevens lawyer brendan sullivan told reporters innocent charges would never brought stevens lost bid seventh full term november conviction seven counts lying senate ethics forms sullivan said justice department forced request dismissal extraordinary evidence government corruption watch dismissal case government fail provide evidence defense law requires provide created false testimony gave us actually presented false testimony courtroom said one stevens longtime friends utah sen orrin hatch said wednesday stevens screwed justice department statement issued wednesday morning stevens thanked justice department attorney general eric holder requesting charges dropped always knew would day cloud surrounded would removed stevens said day finally come district judge emmet sullivan set tuesday hearing justice department request dismiss case sullivan related stevens lawyer excoriated prosecutors trial held prosecution contempt one point december two months guilty verdicts fbi whistle blower accused prosecutors withholding evidence defense reported someone government inappropriate relationship bill allen oil industry executive government key witness motion filed wednesday justice department acknowledged stevens given access notes taken prosecutors april interview allen former chairman oilfield services company center corruption probe alaska notes show responses allen prosecution star witness inconsistent testimony gave stevens information interview could benefited stevens trial motion says light conclusion consideration totality circumstances particular case determined interest justice dismiss indictment proceed new trial holder said written statement hatch senior republican senate judiciary committee said called stevens alaska wednesday former senator sounded elated anyone would guy gave better years service country screwed screwed justice department hatch said praised holder standing fixing foul situation think shown integrity decency matter easy thing hatch said looking realized people like saying percent right senate majority leader harry reid nevada also commented justice department request saying ted stevens years old already punished enough satisfied statement wednesday alaska gov sarah palin said stevens deserves happy today horrible thing endured blatant attempts adversaries destroy one reputation career finances abuse well guarded process violate god given rights afforded constitution frightening thing contemplate may witnessing undermining political process unscrupulous ploys professional misconduct senator stevens never gave hope unfortunate result questionable proceedings led senator stevens conviction days election alaskans lost esteemed statesman capitol hill presence missed justice department office professional responsibility review prosecution team conduct stevens case holder said asked whether prosecutors charged sullivan told reporters job defense lawyer trial assistant attorney general matthew friedrich said stevens hid hundreds thousands dollars freebies received allen company veco allen many allegedly free services given part renovation stevens alaska home prosecutors said cnn terry frieden paul courson ted barrett deb krajnak contributed report\n",
            "**************************\n",
            "receiving nearly reports stuck gas pedals ford mazda vehicles federal regulators said tuesday launched investigation problem suspected cause one death nine injuries stuck accelerators investigated possible role one fatal accident nonfatal crashes fires eight injury accidents according national highway transportation safety administration ford mazda said vehicles potentially affected according automakers reports nhtsa half vehicles model year ford escapes remaining vehicles mazda tributes nhtsa identified vehicles potentially affected expanding scope vehicles question ford escape mazda tribute suvs engines according nhtsa mazda ford issued recalls models sport utility vehicles liter six cylinder engines several reports nhtsa involve vehicles covered previous recalls agency said letter ford environmental safety compliance global director thursday one complaint based fatal crash occurred january nhtsa said complaints allege failures may related repairs made response safety recalls initiated investigation summary said ford mazda recalls vehicle speed control cables affected vehicles letters also sent dealers customers according filings nhtsa website vehicle possible accelerator cable may prevent throttle returning idle position possibly resulting elevated engine speeds driving ford letter customers read unexpected increase engine idle speed may increase stopping distance may result vehicle crash without warning center auto safety petitioned nhtsa open similar investigation july petition denied thursday part request covered agency newly opened investigation nhtsa opened investigation assess scope frequency safety related consequences alleged defect agency said neither ford mazda responded cnn requests comment\n",
            "**************************\n",
            "south korea stage first formula one grand prix motorsport governing body international automobile federation announced monday work progress km site future south korean grand prix yeongam county race season open bahrain march final race take place brazil missing staging grand prix canada return circuit june date agreement could reached formula one management holds sport commercial rights completed turkish grand prix moved back one week june slot south korea spending millions dollars track yeongam county officials confident korean grand prix set october quickly make mark work progress km site km south seoul seating accommodate spectators built organizers say main circuit include asia longest straight stretch km allow speeds km per hour seoul hosted olympic games asian games football world cup never formula one race despite major domestic auto industry race schedule formula one championship gets way bahrain march march bahrain grand prix march australian grand prix april malaysian grand prix april chinese grand prix may spanish grand prix may monaco grand prix may turkish grand prix june canadian grand prix june european grand prix valencia spain july british grand prix july german grand prix august hungarian grand prix august belgian grand prix september italian grand prix september singapore grand prix october japanese grand prix october south korean grand prix october abu dhabi grand prix november brazilian grand prix subject completion contract negotiations formula one management completed turkish grand prix moved june\n",
            "**************************\n",
            "miami well known tropical weather retiree community cuban american population much international art hub luckily downtown miami billionaire real estate developer jorge rez wants change real estate developer art lover donated million half made private art collection rez art museum miami known pamm one major institutions united states hispanic name certainly one way put miami map ancient village found miami downtown miami midst major revitalization david beckham hoping build stadium recently announced miami soccer team within art world international art fashion extravaganza art basel taken place miami beach decade considered country leading art fair international museum institutions attracting tens thousands people five day event jorge rez hopes museum help take miami next level cultural institutions played critical role growth miami museum leading example rez said interview cnn rez known condo king south florida started urban planner focusing low income housing developments co founded real estate development firm related group florida working high end condo construction time magazine named one top influential hispanics united states year old billionaire also made forbes list richest americans several times latino immigrant born argentina cuban parents rez grew colombia migrating miami teen lifelong passion latin american art stems upbringing early started collecting paintings roberto matta diego rivera wifredo lam joaquin torres garcia works selected museum rez private collection available everyone see inside three story square foot museum designed pritzker prize winning swiss architects herzog de meuron walk inside million building surrounded tall glass windows said largest hurricane impact resistant world hanging every side museum self watering hydroponic gardens designed french landscape artist patrick blanc museum focuses international art th st centuries currently showing chinese artist activist ai weiwei according collection pamm one main attractions known bicentennial park museum park also house patricia phillip frost museum science set open rez art museum smooth opening last year except one slight hiccup naming majority board members voted favor naming museum rez four resigned protest seems heart set miami art museum million million raised city county taxpayer money city miami donated waterfront land pamm sits board members argued name museum represent city central art museum cannot speak others however great majority board supportive board voted favor renaming rez said rez involved museum since well building project began said honored board chose recognize way think people want remembered causes feel worthwhile helped promote rez said seemed odd pamm received share strife naming donor years ago miami science museum name changed patricia phillip frost museum science generous donor gave million construct new museum museum park name change extremely well received community patricia phillip frost well liked people symbolize said gillian thomas president ceo patricia phillip frost museum science comes naming rights perhaps miami takes art seriously science people opinions art whereas science bit concrete would backlash naming building donor thomas said points naming miami art museum rez carries sense pride hispanic community even though art donation represent collection jorge rez first major donor hispanic community thomas said american art museums named donors like paul getty museum los angeles stirred controversy people may agree name thomas said everyone see downtown miami quickly becoming hub science art means donations needed far seem problem rez art museum reached mark million capital campaign\n",
            "**************************\n",
            "president abraham lincoln wife mary todd needed baby sitter april lincolns planned go fair baltimore returning next day needed someone watch year old son tad newly published letter mrs lincoln requesting sitter gives rare insight family life inside lincoln white house showing one way family juggle busy schedules like everyone else letter offered sale raab collection dealer historical documents valued long one line signed letter first lady hand hon mr harrington would like services charles today tomorrow resp mrs lincoln charles charles forbes treasury department employee detailed lincolns often served president valet footman messenger attendant according raab collection george harrington assistant secretary treasury forbes boss handled personal financial matters lincolns children white house always held great fascination american people said nathan raab vice president raab collection shows president first lady personal human mary todd lincoln ended going baltimore event likely burdened preparations reception next night final white house reception season raab says forbes close family relationship soured year later president lincoln assassinated forbes seated outside president box ford theatre one allowed assassin john wilkes booth enter forbes president guard left drink leaving lincoln unattended raab says mary todd lincoln ended blaming forbes husband death lincoln film th president battle end slavery academy awards year including best picture ceremony scheduled broadcast sunday night\n",
            "**************************\n",
            "singapore economy shrank percent fourth quarter ministry trade industry said thursday forecast economy would contract percent year boats ply bridge near financial district singapore compared robust growth percent year earlier economy grew percent whole ministry added called gross domestic product growth prospects weak account pessimistic global economic outlook major sectors except construction business services information communications saw contractions ministry said ministry cited decline private sector investments private consumption expenditure dragging total domestic demand declines global demand electronics products pharmaceuticals chemicals also likely weigh manufacturing sector\n",
            "**************************\n",
            "father george zimmerman man accused shooting killing unarmed black teen says teen threatened kill zimmerman beat badly forced zimmerman shoot trayvon martin trayvon martin said something effect going die going die tonight something effect robert zimmerman told orlando news station wofl continued beat george point george pulled pistol interview robert zimmerman face obscured says fears safety vehemently defended shooting caused outrage throughout nation moved president obama call tragedy prompted federal investigation robert zimmerman told news station martin confronted son first pummeled son continually punched nose nose broken robert zimmerman said knocked concrete trayvon martin got top started beating face nose hitting head concrete robert zimmerman night shooting say interview knew details altercation elder zimmerman account disputed martin family attorney several legal experts surveillance video taken night incident police headquarters shows zimmerman hands cuffed exiting patrol car video first broadcast wednesday abcnews com shows officer looking back zimmerman head video provide close zimmerman head say shows zimmerman significant injuries face injuries made sound though really stretcher apparent tape said marcia clark former prosecutor simpson trial moves freely moves fluidly like someone beating anyway shape form someone whose head pounded pavement hard described someone nose broken bleeding tells great deal sybrina fulton martin mother said video another strong piece evidence proving son killed unjustly believe video icing cake said first part evidence tapes also witnesses addition sanford police department always problem case needs arrested year old shot death february george zimmerman neighborhood watch volunteer martin walking back father fiancee house sanford florida wearing hoodie carrying skittles candy iced tea purchased nearby convenience store zimmerman says killed martin self defense teen attacked gated community zimmerman arrested authorities said said charged grounds disprove story happened shooting hit nerve nation sparked debate racial profiling ignited protests calls zimmerman arrest robert zimmerman said son hard time dealing criticism never foresaw much hate coming president congressional black caucus naacp every organization imaginable trying get notoriety profit way robert zimmerman told wofl much hate never involved hate george really unbelievable robert zimmerman said son racist race nothing incident would anything help anybody time color blind comes race robert zimmerman said tracy martin martin father said wednesday tape shows zimmerman profiling son recording zimmerman call police people said hear sounds like possible racial slur cnn enhanced sound call several members cnn editorial staff repeatedly reviewed tape could reach consensus whether zimmerman used slur angela corey special prosecutor assigned investigate case said tuesday investigators would look allegations zimmerman used racial slur martin lived miami visiting sanford receiving day suspension school family spokesman said empty plastic bag found book bag determined contain marijuana residue crump martin parents attorney said information regarding suspension irrelevant amounts smear campaign youth florida law allows use deadly force anywhere person feels reasonable fear death serious injury cited number justifiable homicide cases florida information surfaces picture happened becomes complicated despite twists turns case fulton martin mother says still faith authorities investigating son case feel confident going thorough investigation fulton said trying patient even though month trying patient trying press justice cnn umaro djau deirdre walsh ed payne tracy sabo contributed report watch anderson cooper weeknights pm et latest ac click\n",
            "**************************\n",
            "established apple top tablet competitor going smaller cheaper amazon go head head category defining ipad turf even google new nexus challenges kindle fire dominance small tablet category amazon ceo jeff bezos thursday introduced new inch kindle fire hd pits new device ship late november device apple thus far squashed direct competition tablet tried match ipad feature feature gained token foothold market latest version ipad kindle fire hd stack people gotten hands new device questions cannot answered yet look know far price fire comes way ahead one expected amazon targeted customers looking basic features tablet willing pay apple heftier price tag cost lowest end ipad buyer get gb version fire hd lte connection upgraded cellular network gb version fire comes less comparable ipad size amazon obviously closed gap significantly ipad still bigger screen fire apple ipad screen measures inches diagonally fire inches less difference screen sizes iphone larger samsung galaxy iii smartphones competition apple amazon could heat another front rumors apple plans release ipad mini turn true display tablets feature high definition screens although details vary ipad retina display featured total million pixels resolution contrast fire hd measures pixels custom features designed reduce glare improve color saturation apple amazon boast resolution tablet sharp impossible human eye discern individual pixels data plans kindle fire wifi device new models remain way bezos announced top end version fire hd available plan offered attractive price year price gets mb data per month lot device designed large part stream movies media unclear thursday charges going allotted data well verizon charge year data ipad first ipad launched offered data plans starting per month per year megabytes data currently verizon offers variety plans gb data per month way massive gb per month offers mb per month plan per year customers get gb per month obviously lots permutations plans customers seek ipads based carrier special offers safe say amazon going less expensive although offers minimal amount data apps hard compete apple app store apps designed specifically ipad many work take advantage display screen size add half million apps run mobile devices got lot choose amazon course likes play movies books make universe content bezos lumped together million movies tv shows songs apps games books audiobooks magazines available amazon store showcased nice looking new apps kindle fire runs modified version google android operating system runs apps available amazon cuts number available several thousand enough many users nowhere near ipad offers\n",
            "**************************\n",
            "march favorite day nerd across country math geeks museums schools private groups elsewhere gather celebrate number pi approximately march pi day albert einstein born day quick refresher pi defined distance around perfect circle circumference divided distance across diameter also involved calculating area circle volume sphere many mathematical formulas might need sciences throughout history people captivated number way calculate exactly simple division calculator digits go infinitely without pattern numbers etc even many digits people would need everyday use folks inspired memorize thousands digits pi even use digits create poetry music pi day one number reeks mystery math may scary pi evidenced widespread revelry pi day one might even say gasp cool like pi days even house representatives supported designation march national pi day countries day written month friday looks less like pi pi day acquired taste mathematician jonathan borwein university newcastle australia said mail conveniently pi sounds like pie pies round could celebrate pi day casual way grabbing slice pastry pizza enrolled school math class math department might something special already happen live particularly pi happy place might able take part larger scale pi inspired activities pi day began want go day said invented look san francisco exploratorium larry shaw worked electronics group museum began tradition last year pi day th anniversary pi day began small gathering mostly museum staff public pi extravaganza featuring pi procession whose attendees get number line order pi digits get idea parade ends pi shrine pi symbol digits spiraling around embedded sidewalk unveiled last year cannot attend person exploratorium second life pi day event includes irrational exhibits fireworks cheerleaders music dancing museum also lists bunch educational activities teach concept pi pi day pi attack einstein lived opposite coast leafy university town albert einstein spent last years life showing community wide exuberance pi princeton new jersey kicks pi day weekend thursday night reading physicist charles adler heads full day activities friday including walking tour einstein neighborhood pizza pie making contest pie eating contest takes place mccaffrey supermarket einstein look alike competition match mustaches wild gray hair princeton public library pi fans spending last year memorizing digits show compete library winner among year olds take home cool pi hundred historical society princeton einstein birthday party tetsuya miyamoto inventor kenken puzzle speak library well digits pi memorize brainiac town residents love event way celebrate quirky said mimi omiecinski owner princeton tour company started princeton pi day lot get super last year people participated said along fascination albert einstein omiecinski inspired launch town wide pi day heard princeton university mathematics department celebrates march pie eating pi reciting even pi chicago getting pi business lots restaurants bakeries offering pi day specials illinois science council fleet feet sports hosting mile walk run friday night discounts anyone named albert alberta albertina philly com highlights two options satisfying pie cravings city brotherly love bostonians head massachusetts institute technology pi time pi themed activities throw pie best friend high speed camera museum science boston educational pi day events seattle children museum celebrate even salvador dali museum st petersburg florida celebrate day dali loved irrational numbers pi phi often using mathematical principles art according museum live area check schedule math inspired films tours throughout day plenty online resources piday org outside physical classroom pi day celebrated online google virtual classroom project david blatner author comprehensive book joy pi hosting pi day competition students three classrooms square see recite digits pi memory pi day become big thing blatner says pi day become hit reason new cosmos tv show getting much attention people around world hungry make science math fun interesting said mail know math science important know fascinating often know make fun interesting pi day gives us great excuse throw away fear math say hey kind neat agree wait one popular facebook group calls pi day lives pi four digits decimal unlikely survive see second instance pi perfection get ready next year take picture digital clock worth thousand digits follow elizabeth landau twitter lizlandau celebrate pi day tell us comments\n",
            "**************************\n",
            "supreme court justice sonia sotomayor thrust national spotlight two hot button issues week nothing cases involved sex marriage utah requirement contraceptive coverage obamacare two emergency appeals new year eve came way cases originated western areas country colorado utah fall jurisdiction reviewing time sensitive federal motions sotomayor sought information appeal utah uphold voter approved ban sex unions state made headlines politically charged case around affordable care act new rules take effect sotomayor issued order moment stayed requirement sweeping health law certain religiously affiliated groups ensure employees receive coverage contraception cost denver based organization cares elderly poor little sisters poor objects complying rules law would guarantee exemption theory still require third party provide contraception insurance ultimately believes authorizing form passes ball another entity still means contraception coverage employees nuns objectionable moral grounds catholic church opposes artificial contraception sotomayor emergency injunction follow extend seek opinion fellow justices additional review may seem like blow politically charged health care law convey meaning sotomayor liberal jurist may stand larger issues raised appeal overall placed single case hold overturn obamacare cnn legal analyst jeffrey toobin said decision late tuesday simply put brakes compliance little sisters poor enabled obama administration file arguments justice department said friday appeal lacked merit charity said eligible exemption moreover entity administers insurance plans non profit christian brothers services also exempt certain conditions obamacare rules applying religious institutions toobin said sotomayor acted based view law holding rule case sotomayor voted uphold affordable care act blockbuster supreme court ruling gave obama enormous political victory obamacare seeks extend health coverage millions americans without president signature domestic achievement relentlessly attack conservatives made numerous attempts repeal otherwise sink focus numerous legal challenges\n",
            "**************************\n",
            "beset war sectarian violence iraq lot laugh recent years trio old friends baghdad sought change distilling jokey banter late night drinking sessions controversial talk show hosted yasser sami walid monam produced friend ghazwan al shawi show called akou fad wahad guy typical setup one anecdotes aim behind production says al shawi make people smile wanted anything make miserable sad people happy said proved hit predominantly male audience everyone appreciates sense humor sami describes first episode broadcast summer bold got us lot trouble sexual pornographic innuendos like shock iraqis laughs since show routinely offended conservative sectors iraqi society discussion taboo topics including relationships sex religious group staged demonstration outside show studio last year government censors complained content read arab female film directors find acclaim sami said gang even turned house threatening cannot tell means give another chance come laughs jokes might considered particularly edgy non iraqis even necessarily funny typical gag goes like stoned guy bought two birds mother one tweeting silent asks son one tweeting mother one composer replied although humor may seem mild iraq yet ready akou wad fahad sami says team modify approach order continue broadcasting changed things show said used female dj asked remove show even new iraq said monam still many red lines cannot crossed entertainment limitations imposed us would much better show live social taboos said challenging says impossible least frustrating might friends content tone act means bringing smile people faces\n",
            "**************************\n",
            "says last fight hardest years congress new york rep charlie rangel said campaign rd term final one year old lion harlem wants two years washington tuesday voters decide time founding member congressional black caucus former chair powerful ways means committee legend harlem politics shaky ground rangel running rd term house rangel says ready time bruised democratic primary victory came thin margin rangel beat state sen adriano espaillat fewer votes congressman said put much fight campaign last time told running hospital columbia presbyterian viral infection spine time rangel said ready well walker spinal injury rangel also time recover humiliating censure house representatives following series ethics violations midterms stake gearing round since espaillat gearing round time underdog said counting upset making comparisons one biggest ones ever boxing sonny liston big bad bear got ring ali faster smarter espaillat said able draw circles around shook world changed boxing voters want change may measure much district changed since rangel went washington harlem rich african american history seems distant neal schumacher knows streets harlem well anyone gives walking tours often points fact neighborhood harlem grew harlem embrace falling crime rate accelerated real estate development neighborhood affordable housing remains among pressing issues many roots community people concerned gentrification rising housing costs mom pop shops closing able afford live community said schumacher harlem long known rich african american history harlem historian jacob morris past feels distant today th century harlem incontrovertibly cultural capital black america still would say custodian great history say racial ethnic politics part race today demographics different district part bronx added harlem district primary th congressional district hispanic majority elected espaillat would become country first dominican american congressman candidates insist racial ethnic politics determine outcome race never political battle congressional district years based born religion rangel said campaigning saturday midterms complete coverage turnout could key according ny siena college poll released week primary vast majority voters said race ethnicity candidates makes difference poll shows rangel point lead blacks point lead whites espaillat point lead latinos overall poll gives rangel point lead espaillat insiders suggest race tighter tough predict key factor turnout expected low campaigns battle get voters polls tuesday congressional race item ballot\n",
            "**************************\n",
            "washington white house wednesday said puzzled former spokesman memoir accuses bush administration mired propaganda political spin times playing loose truth former white house spokesman scott mcclellan blasts president bush advisers new book excerpts page book released monday scott mcclellan writes war iraq bush advisers confused propaganda campaign high level candor honesty fundamentally needed build sustain public support time war regard terribly ill served top advisers especially involved directly national security mcclellan wrote white house spokeswoman dana perino called mcclellan description time white house sad read excerpts book scott know disgruntled experience white house perino said us fully supported press secretary puzzled sad scott knew mcclellan former white house colleagues harsher reactions mcclellan book frances townsend former homeland security adviser bush said advisers president speak policy concerns scott never issues best remember best know white house colleagues said townsend cnn contributor strikes self serving disingenuous unprofessional fox news contributor former white house adviser karl rove said network tuesday excerpts book read sound like written left wing blogger former colleague rove declined comment cnn fox news interview brief phone conversation cnn tuesday evening mcclellan made clear stands behind accuracy book mcclellan said cannot give record quotes yet agreement publisher watch details emerge mcclellan book another former bush aide turned critic says reaction mcclellan book former colleagues familiar ring saying exact things mcclellan said richard clarke former white house counterterrorism chief told cnn clarke left government following year accused president bush ignoring warnings september attacks new york washington using attacks push war iraq clarke gave mcclellan little credit speaking think difference mcclellan book telling us something know war iraq disastrous war sold deception little different say something people four five years ago war popular unpopular saying said besides criticism administration handled run iraq war mcclellan also sharply criticizes administration handling hurricane katrina aftermath book one worst disasters nation history became one biggest disasters bush presidency wrote katrina botched federal response would largely come define bush second term early book cnn obtained late tuesday mcclellan wrote believes told untruths bush behalf case cia agent valerie plame whose identity leaked media rove fellow white house advisers elliot abrams lewis scooter libby accused leaking name plame whose husband former ambassador joseph wilson gone public charges bush administration twisted facts justify war iraq libby convicted last year lying grand jury federal agents investigating leak bush commuted month prison term calling excessive time mcclellan called three good individuals said spoke telling reporters involved allowed deceived unknowingly passing along falsehood wrote would ultimately prove fatal ability serve president effectively mcclellan wrote realize said untrue reporters began digging details case almost two years later former spokesman bush governor texas mcclellan named white house press secretary replacing ari fleischer mcclellan previously deputy press secretary traveling spokesman bush campaign election announced resigning april news conference bush one days going rocking chairs texas talking good old days time press secretary bush said conference assure feel way feel say scott job well done cnn ed henry contributed report\n",
            "**************************\n",
            "chances someone know takes sleeping pill one four americans takes sleep aid every year according national sleep foundation numbers even higher women one three uses sort sleep medication times week many sleeping pills stop working hours combined medications women trouble sleeping reasons numerous passel pills market anxiety depression chronic illness restless legs syndrome sleep apnea everyday exhaustion list goes wonder many sleep aids available sleeping pills often quite helpful largely misunderstood many stop working hours instance never mixed meds take one drugs plan future important questions need ask answers know need sleeping pill third americans experience occasional insomnia defined nights restlessness poor sleep trouble falling asleep general rule thumb insomnia lasts month get better talk doctor says frisca yan go director sleep disorders center santa monica university california los angeles medical center orthopaedic hospital may recommend pill short period surprised suggests tests non drug treatment options first health com much sleep need starters doc may visit sleep specialist rule sleep apnea common breathing disorder wakes sufferers several times night sometimes without even knowing apnea may need sleeping device gently forces air windpipe apnea docs recommend cognitive behavioral therapy work trained therapist change think sleep learn sleep inducing techniques studies say cbt effective pills side effects health com health risks snoring sleep apnea often people attribute everything bad happens including angry crabby lack sleep says donna arand ph clinical director kettering sleep disorders center kettering ohio puts burden sleep sleeping gets blown proportion cbt changes kind distorted thinking cases prescribed along pill try counter drugs prescription pill many sleep experts fans otc sleep aids meds usually help people significant insomnia many like nytol simply sleep som inex unisom contain antihistamines side effects like dry mouth eyes next day grogginess arand says otc sleep aids best people occasional sleep problems note women breast feed avoid elderly sometimes sensitive effects antihistamines take prescription pill still cannot fall asleep take another taking short acting drug sonata rozerem ambien still early evening take another pill short acting medications kick fade prescribed people trouble falling asleep health com stress causing insomnia last three four hours could take another pill would metabolize wake says ana krieger sleep specialist new york university longer acting drugs like time released ambien cr lunesta people trouble falling staying asleep taken night safe take sleeping pill glass wine cocktail around probably ok doctors say sleeping pill work well alcohol becomes stimulant three four hours drink actually working sleep medication arand says terrible combination never drink immediately take sleep aid alcohol acts like sedative first would essentially getting double dose sedatives dangerously slow heart rate lead dizziness fainting shallow breathing deprive body oxygen damage brain cells worst case may even stop breathing altogether health com kinds insomnia everyone metabolizes food alcohol different rates safety absolutes comes minimum number hours wait consuming alcohol taking sleeping pill experts say dinner party really want drink alcohol early krieger says eat dessert without alcohol wait long possible taking sleeping pill sleeping pills give nightmares usually arand says sleep meds suppress dream recall stop taking dreams may return mechanism fully understood withdrawal even dosage wears night vivid dreams occur safely take sleeping pills several months known long term health risks sleep aids addictive others newer medications like ambien sonata rozerem lunesta approved food drug administration without limit long prescribed arand says small addiction potential shown effective one year older sleeping pills secobarbital pentobarbital pose much higher risk addiction tolerance common problem sleeping pills taking need usual dose help sleep may lead think addicted drug seem working well used taking prescribed dosage tell doctor change adjust medication taking sleeping pills several months best way wean doctor help gradually step meds generally want reduce drugs one clinical dose per week taking milligrams traditional ambien night start taking mg night week arand recommends next cut pill half take amount week stop taking drug altogether medications pill form time release versions ok split heard rebound insomnia really harder fall asleep stay asleep without pills taken times might trouble krieger says though less likely newer pills include rozerem sonata lunesta give days adjust stop taking medication arand explains still cannot sleep talk physician rebound insomnia one reasons experts recommend cbt sleep medications want use sleeping pills natural remedies worth trying yes expect miracles melatonin sleep hormone body makes naturally herb valer ian may helpful experts feel lack research back effectiveness supplements plus regulated like drugs always know getting said want try melatonin take mg four hours bedtime safe take every day krieger says age bodies secrete less taking supplement helpful melatonin may particularly beneficial travel several time zones east trouble falling asleep valerian recommended dosage clear herb works using supplement check doctor combining medications sleeping pills otherwise risky enter win monthly room makeover giveaway myhomeideas com copyright health magazine\n",
            "**************************\n",
            "world knows peace sometimes fleeting one time basketball bad boy ron artest changed name metta world peace said meaningful inspirational ejected sunday los angeles lakers oklahoma city thunder game hitting james harden head elbow scoring thunder second quarter world peace cheering shot hit oklahoma city guard back head knocking watch nba com video hit harden floor several minutes return game diagnosed concussion according thunder world peace ejected game faces possible suspension lakers thunder double overtime play dunked ibaka got really emotional excited unfortunate james get hit unintentional elbow world peace told reporters game hope ok thunder playing championship year hope ok apologize thunder james harden said hours later world peace tweeted watched replay oooo celebration dunk really much even see james omg looks bad harden told abc lisa salters little bit headache monday thunder said harden undergoing testing harden participated series limited activities per nba guidelines additional steps must taken league mandated concussion policy make return court team statement said evaluated tomorrow currently listed day day world peace act called disgraceful game commentators sports analysts said behavior reminiscent ball player knew ron artest gone lengths rehabilitate image revert back lost control said michael wilbon espn analyst sports fans baffled even amused world peace announced last year planned legally change name ron artest ron artest contemplated name change years always knew wanted last name world peace took many years research soul searching find first name personally meaningful inspirational publicist said time back world peace still artest playing indiana pacers made headlines role brawl players fans pacers pistons game somebody threw drink nba suspended artest games fast forward september artest announced name change even finalized court world peace working making world peaceful place raffled nba championship ring help mentally ill youths work youth given nba citizenship award philanthropic work star turn dancing stars garnered basketball player new legion fans world peace sometimes comes price nba reviewing world peace less peaceable actions\n",
            "**************************\n",
            "gasoline prices declined four weeks straight average cents gallon cheaper year ago according new nationwide survey average cost gallon across continental united states regular stands cents two weeks earlier said trilby lundberg publisher lundberg survey prices fallen nearly cents gallon past four weeks cents cheaper point lundberg said lower prices europe benchmark brent crude oil largely behind recent fall refining capacity coming back line seasonal maintenance also contributed lundberg said short term may see price cutting soon perhaps order approximate cent decline said current picture suggests large gas prices broke three month upward spiral early march climbed nearly cents since late december lundberg survey canvasses filling stations across lower states every two weeks expensive fuel latest survey conducted friday chicago pump prices averaged gallon cheapest could found billings montana lundberg said average per gallon prices cities atlanta baton rouge louisiana boston denver las vegas memphis tennessee miami philadelphia san francisco seattle cnnmoney california could next oil boom state\n",
            "**************************\n",
            "washington extensive reshaping obama administration national security team date president name central intelligence agency director leon panetta nominee succeed robert gates defense secretary top officials said wednesday gen david petraeus nominated take cia director lt gen john allen succeed petraeus head led international military force afghanistan senior administration official told reporters addition longtime diplomat ryan crocker nominated next ambassador afghanistan official said president barack obama formally announce changes thursday according senior administration official biggest reshaping obama national security team since took office january reflects longstanding plan gates step aside year changes also coming adm mike mullen chairman joint chiefs staff fbi director robert mueller eligible renomination terms expire year gates resign effective june assuming panetta gets confirmed congress time ready start july according administration official congressional aide familiar phone calls gates making legislators senior staff members petraeus remain command afghanistan allen ready take beginning september officials said could require interim cia director panetta moves defense secretary office planned july addition petraeus resign military confirmed serves civilian cia director officials said initial reaction congress positive key legislators intelligence security issues praising panetta petraeus good choices sum total picks president chosen experienced people unique capabilities serve nation dangerous time said republican sen lindsey graham south carolina team provide leadership help make nation safer could pleased selections hope nominees receive swift approval united states senate gates telling legislators staff members recommended panetta job six months ago joked panetta stopped speaking days officials said addition gates saying allen consensus choice succeed petraeus according officials took meeting obama convince panetta accept job source familiar discussions told cnn panetta happy serving cia believes strongly public service answering call commander chief source said panetta took cia february served chief staff president bill clinton previously director office management budget california democrat served house representatives coming cia spent years co directing public policy institute wife sylvia brought relative outsider without hands intelligence experience manage agency shaken exposure criticism controversial interrogation detention program panetta longstanding ties congress seen way restore administration relationship oversight committees given high marks fronts inside agency congress david berteau senior adviser center strategic international studies said panetta brings several important qualities table learned lot lessons defense budgeting stint head omb knows deal republican congress clinton administration berteau said panetta former congressional district northern california huge defense presence berteau said panetta earned trust confidence obama leader cia name recognition important berteau said adding name americans recognize filling bob gates shoes really going tough job berteau said president choice petraeus lead cia indicates obama interested national security views efforts indicates president cares way pieces fit together earlier month petraeus took highly unusual step military officer publicly acknowledged possibility contention presidential appointment probably appropriate comment whatever might considered road told reporters kabul asked possible cia nomination discussions would appropriate comment petraeus assumed command nato international security assistance force forces afghanistan july serving months commander united states central command previously commanded multi national forces iraq leading called surge time commanding army combined arms center fort leavenworth oversaw development army marine corps counterinsurgency manual crocker served previously ambassador iraq pakistan allen became deputy commander central command july gates cabinet member previous administration stay obama came office president george bush nominated gates nation nd secretary defense december replace donald rumsfeld one architects iraq war facing widespread criticism gates expect stay bush presidency ended asked would continue another administration gates said learned long time ago never say never answer circumstances would inconceivable circumstances arose december president elect obama expressed desire continuity pentagon given ongoing conflicts abroad iraq afghanistan spent long time hoping question would never popped gates admitted day obama announced nomination said obama impressed unclear may replace mueller fbi attorney general eric holder tuesday rule mueller staying short term year term expires september successor yet confirmed mueller leave hard shoes fill holder said holder said discussing potential nominees white house officials including vice president joe biden holder said believes nominee selected may administration time get new director confirmed august timeline slips however mueller term would end september one week th anniversary terrorist attacks world trade center pentagon mueller often remarked barely chance find desk attacks occurred entire decade dominated fight al qaeda scattered supporters home abroad cnn barbara starr joe sterling terry frieden tom cohen john king chris lawrence contributed report\n",
            "**************************\n",
            "family james mcnair late comedian known jimmy mack settled lawsuit walmart auto accident killed injured fellow comedian tracy morgan mcnair family says mcnair sister pamela mcnair said amount agreed upon confidential satisfactory parties value dollar amount brother life said terms finances assist family great deal continue living life mcnair father year old jamel year old danita oldest seven siblings cared greatly pamela said nothing change happened walmart said walmart mcnair family worked closely together reach agreement walmart continues work others involved accident continue right last june limo bus carrying morgan mcnair companions rear ended walmart truck new jersey turnpike crash killed mcnair left morgan severe brain injury colleagues injuries preliminary report national transportation safety board said walmart truck traveling mph speed limit driver almost drive time limit july four parties filed suit walmart stating complaint defendants negligence substantial contributing factor causing plaintiffs injuries pamela mcnair said family continue carrying james legacy humanitarian finances settlement help brother done lot community mentored youth community worked homeless shelter little things done truly missed mcnair said great comedian good family person first foremost loved life wanted others love life well humanitarian mayor mcnair hometown peekskill new york named june honor said tracy morgan lawyer told cnn november still recovering car accident left severe brain injury fighting return person mcnair said family contact morgan family kind heartbreaking mcnair said understand medical situation want best praying recovery felt someone could reached family brother tracy long relationship friends heartbreaking heard anyone cnn chuck johnston alexandra field contributed report\n",
            "**************************\n",
            "five remaining inmates held mississippi pardons controversy released prison mississippi supreme court last week upheld controversial pardons convicts former gov haley barbour granted way office rejecting challenge state attorney general page ruling thursday afternoon court found pardons may set aside voided judicial branch attorney general jim hood argued proper notice posted newspapers court found final decision rested solely governor mindful victims families entitled interested subject matter case undoubtedly understandably concerned outcome justice jess dickinson wrote majority cases governor decide whether constitution publication requirement met statement court ruling barbour said reaffirmed century settled law state acknowledged decision difficult many inmates victims dissenting opinion justice michael randolph called decision stunning victory lawless convicted felons immeasurable loss law abiding citizens state hood argued state constitution required pardon valid notices filed day days newspapers crimes committed february supreme court hearing barbour lawyers argued previous state court rulings found day notice rule unconstitutional encroachment governor power thursday ruling final word case hood said would seek get notice requirement restored state charter respect decision court feel deeply must weigh victims families victims family members lost today criminals said statement echoing randolph dissent among inmates barbour pardoned left office january four convicted murderers worked trusties governor mansion critics argued governor failed consider families victims freeing four armed robber also pardoned barbour remained free issue worked way courts freed thursday decision five inmates remained behind bars awaiting ruling released barbour defended pardons said former inmates rehabilitated cnn martin savidge joe sutton contributed report\n",
            "**************************\n",
            "washington rep mike rogers chairman house intelligence committee key congressional voice national security announced friday run reelection year michigan republican made announcement detroit wjr radio station saying host syndicated radio program talk national security issues news day career politics always planned one rogers said statement genius institutions dependent individual temporary occupants privileged serve decided seek election congress rogers held seat congress decade close house speaker john boehner staunch supporter national security agency surveillance programs came fire leaks edward snowden publicly disclosed sweeping nature week rep dutch ruppersberger maryland top democrat intelligence committee came plan ending nsa sweeping collection bulk telephone records obama congress working changes nsa rogers said past phone electronic surveillance programs abused stridently criticized snowden former nsa contractor also acknowledged public worries government storage surveillance data really trying alleviate concern could abuse future programs rogers said recently authorization programs expires friday president barack obama expected seek temporarily renewal congress works reform legislation senior administration official said rogers also favorite sunday public affairs programming frequently criticizes obama joins cadre house members seeking reelection november seat th congressional district still considered relatively safe republicans rothenberg political report cook political report shifted analysis district likely republican lean republican november election following rogers announcement democrats sought tie together rogers boehner senior republican committee chairmen continue flee john boehner broken congress rather defend indefensible record siding special interests middle class families earned record low approval ratings rep steve israel new york chairs democratic congressional campaign committee rogers became key figure developing national security policy informed experience army officer fbi special agent powers kick russia mike spent entire life ensuring country kept safe threats foreign domestic national republican congressional committee chairman greg walden said statement never let partisan politics stand way right nation safety cannot think anyone enjoys respect republicans democrats alike rogers became chairman issued intelligence committee report iran nuclear ambitions authored bill protect chemical biological threats co authored legislation reauthorizing foreign intelligence surveillance act intelligence committee biography said mike rogers solid come one patriots willing go wall keep american people safe matter strain sacrifice boehner said statement cnn jim acosta tom cohen lisa desjardins john helton contributed report\n",
            "**************************\n",
            "kit skogsbergh see would sidekick told would soft soothing voice would kind like piglet pooh movies would little cautious scared things knew plan things worked would warm maybe end movie might roll ball would able face things head year old pasadena california recently filed petition change org asking disney make animated character pangolin little known scale covered mammal notoriously shy kit point protect pretty much anything wild lions tigers rolling ball pangolin trafficked toward extinction sold scales used traditional medicine meat delicacy vietnam china pangolins traded ton disney could give pangolin celebrity needs survive encourage sign kit petition change org people cared pangolin way care tigers elephants easily could saved extinction trouble seem realize awesomely introverted animals exist little studied barely understood also conventionally cute makes easier conservation organizations public write expendable yet essential valuable creatures recently went vietnam indonesia part cnn change list project document massive illegal trade endangered pangolin species heard pangolins readers voted cover illegal animal trade part project kit heard read story last week got halfway stomach hurt bad could finish kit told last week nagging feeling know something kit petition titled help beautiful mysterious pangolins featuring animated movie signatures monday morning least readers also started petitions urging disney put pangolin character animated film short according pulin modi senior campaigner change org disney disney pixar reach make pangolin popular goodness hearts could hit pangolins ultimate underdog lovable secretive curious little known mother pangolins carry babies around backs pangolins hang trees tails tongues longer bodies plus disney already choice names cnn readers voting name pangolin rescued wildlife trade recently released back wild vietnam names would perfect animated character pemalu indonesian shy bao vietnamese protection percival alliterative fun introduce character disney film animal suddenly gets recognition people start talking said kit disney fan education awareness going help shape future generations minds maybe start younger people grow wanting eat pangolin might seem far fetched disney viewer would eat pangolin kit chinese american told father likely consumed endangered wildlife products business china possibly including pangolin source family conflict like talking piece cheese get anywhere said conversations dad welfare endangered animals funny people concerned happens animal animal nothing offer anything food nourishment medicinal properties laughs says makes live longer makes skin nice say crazy americans think able persuade dad change younger generations may ones save animals like pangolins rhinos said disney could reach kit story proof could work kit born united states developed fondness animals young parents valued animals function doom doberman ability protect home ducks eggs saw friends maybe enough friends animals always super friendly time said feel like pretty easy make friends animals three cats cheezburger monster ninja rabbit named bunny became advocate animals got know chinese american also want speak demand china helping drive demand pangolins killed meat medicines writes change org petition tell many chinese citizens support cruelty believe bring wildlife advocates around world together ask disney take simple fun positive step help pangolins cost anything half hour time said petition would take far less time sign\n",
            "**************************\n",
            "st petersburg russia artistic directors first day leading new ballet company meeting dancers nacho duato challenge find rehearsal room mazelike corridors magnificent mikhailovsky theatre st petersburg prove confusing inspire unchoregraphed twists turns duato finally identifies right room new company dancers mikhailovsky ballet unlikely theater floor plan last challenge spanish choreographer month took leadership company first foreigner lead russian ballet company century charged bringing modern choreography mikhailovsky classical repertoire look past always stepping forward stepping future think want think called said duato think pretty clear want change want something new modern ballet dancer choreographer international pedigree hoped revitalize ballet russian audiences performances mikhailovsky well attended growing concern russians may become tired seeing standard repertoire classical ballets russians love ballet goes without saying attitude exists towards russian ballet west passionate said vladimir kekhman billionaire fruit importer general director mikhailovsky theatre would like within russia would attitude say treat gone consider ballet national treasure added kekhman relatively recent convert ballet become something cultural entrepreneur investing million money restore mikhailovsky buildings hopefully reputation kekhman required fresh talent oversee vision says look beyond russia looked within industry see considered living legends choreography looked within russia realized choreographers ability choreograph also head company said approached duato non russian speaker spent last years choreographing new works artistic director spanish national dance company first duato reluctant change direction towards classical ballet mikhailovsky offered chance bring modern choreography classical ballet company proved offer enticing pass know many people think crazy crazy never going work said duato mixture like bomb atomic bomb made feel let try let us maybe bringing modern approach ballet russia ingrained culture might daunt task duato relishing pressure pleasure really pleasure place ballet part cultural tradition long time time want break new things duato said duato set challenging schedule hand picking three dancers create ballet new even name yet weeks world premiere principal dancer ekaterina borchenko jewel mikhailovsky imperial crown company star ballerina danced principal roles productions classical ballets including swan lake giselle la sylphide relishing chance stretch skills repertoire show different side express differently find something new said opening night litmus test receptive russians new direction duato believes ballet living organism needs evolve constantly order keep audience interested philosophy shares kekhman together going work something said duato know going think going beautiful put hearts soul going something fantastic\n",
            "**************************\n",
            "beijing jobs money national identity political stability contentious issues driving presidential election taiwan weekend seeking another four year term incumbent president ying jeou ruling kuomintang party pitted tsai ing wen leader democratic progressive party wins election influence taiwan relations mainland china impact business geopolitics security region including china ties many taiwanese electorates political observers say main issues jobs economics taiwanese identity policy makers beijing however overriding question whether next taiwan president stick status quo means abiding consensus tacit ambiguous agreement reached years ago beijing taipei sides agreed principle one china without agreeing defined interpreted despite ambiguity consensus served basis cross strait dialogue led recent years unprecedented blossoming economic people people ties across taiwan strait beijing view zuguo tongyi reunification motherland matter national pride iron clad policy beijing says prefers peacefully refuses rule use force keep taiwan declaring separate state china keeps hundreds missiles aimed taiwan ominous threat island stay fold war taiwan strait would prompt china standoff taiwan signed mutual defense treaty even washington sells taiwan advanced jet fighters military hardware america also bound taiwan relations act legislation passed consider attack island threat peace security region grave concern years washington avoided spelling would case military clash erupts taiwan strait observers say ambiguity serves deterrent others worry could lead miscalculations delicate balance lurks heart weekend election incumbent president ying jeou advocates maintaining status quo ying jeou continue consensus says tsinghua university professor yan xuetong maintain current relationship across strait wins says wang jianmin researcher chinese academy social sciences beijing hopefully keep peaceful development scenario mutual trust based consensus beijing policy makers wary tsai ing wen suspecting pushing pro independence agenda tsai one rejects consensus instead calls yet undefined taiwan consensus jia qingling top communist party official oversees taiwan affairs recently warned deny status quo way carry negotiations achieved far would vain would go back days chaos uncertainty wang believes relations beijing taipei see drastic change dpp gets elected way china keep current level talks taiwan claims country says taiwan economy certainly decline life blood mainland gets cut tsinghua yan xuetong downplays worst case scenarios even tsai ing wen wins election adopt moderate policy mainland china opines good reasons rock boat mostly money closer ties taiwan mainland observers say brought significant peace dividends sides robust business trade tourism academic people people exchanges family reunions two way trade last year topped billion according estimates china customs bureau years taiwanese investors big small pumped billions dollars investment china last year alone invested billion projects mainland according report state run xinhua new agency mainland companies hand invested million projects taiwan short time since taiwan allowed mainland investments june xinhua said since taiwan opened borders mainland tourists three half years ago says shao qiwei head china tourism agency three million mainlanders visited island last year alone million joined tours went individual travelers shao added contrast five million taiwanese tourists visited mainland last year according national tourism administration communist leadership beijing closer ties also poses downside bring democratic contagion mainland sina weibo china equivalent twitter linghutian writes matter wins victory taiwan voters democracy practicing mainlanders stay calm learn something since cannot really much taiwanese electorate able directly elect president leaders weekend china political elite still struggling behind closed doors reach consensus among take top positions ahead major political transition later year autumn vice president xi jinping expected replace year old hu jintao party chief communist party holds national congress event takes place every five years xi expected formally ascend state president china legislature convenes spring\n",
            "**************************\n",
            "kenya national football team may made world cup finals brazil one man african nation stepping role representing kenya aden marwa country first linesman officiate beautiful game biggest event football life football made life change big deal marwa tells cnn like many young boy marwa became obsessed football often walking vast distances could get tv watch match yet despite passion game wanted nothing refereeing good reason times hard match would hardly finish without referee beaten explains fans rowdy know facilities good playing open fields referee could attacked anytime could see young boy love scared however time marwa became linesman age game changed dramatically resources education funneled sport decide want become football referee three pillars one medical fitness two physical fitness three technical fitness compromised ambitious referee got big break refereeing game kenyan premier league making international debut assistant referee fifa two years later today holds accolade best assistant referee kenyan premier league talent taken sun kissed shores south america world cup performing reserve assistant referee year old knows biggest test career far prepared eyes millions football fans scrutinizing every decision referees make decisions shortest time possible see tv see see replay even pause technology even review says referee one angle look challenge referees biggest one place right position right moment make important crucial decision check video find marwa prepared greatest moment date earned dream job officiating year world cup\n",
            "**************************\n",
            "molly haskell always brotherly love ellen hampton hampton named john cheves haskell jr used haskell brother hampton lived john family called chevey year told sister living gender dysphoria american psychiatric association defines marked incongruence one experienced expressed gender assigned gender year old brother haskell said revelation phone interview little boy memories male makes revisit whole past haskell details experience critical compassionate eye latest book brother sister time announcement chevey married woman eleanor loving stepdad two children hampton divorced lives heterosexual female gender reassignment facial reconstruction surgeries hormone therapy wardrobe overhaul haskell recently spoke cnn familial emotional journey transgender sibling interview edited clarity brevity cnn obviously come terms ellen decision take part haskell first realized soon overwhelming knew could never say brother would never hurt anyone really told powerful feeling watching go evolve radiantly happy completely upfront seeing handled would talk people wanted showed meant cnn yet candidly write unexpected anxiety news haskell afraid flabbergasted going shock apprehension diversity challenging binary roles male female behavior somehow include brother changing sexes one thing born male female need boundaries rub think one interesting thing feminist said seem embrace binary principles book believe thing male female need dichotomies like good evil make divides keep footing world sex born immutable hard grasp cannot really call decision choice painful perilous urge even word cnn takeaway ellen journey haskell think lot people transsexual emphasize strangeness example director matrix larry wachowski lana wachowski wild red hair sister like book attempt unweird whole subject think unnerving people person seem normal think remember many people much changes much change take hormones change surgery change cannot change voice hair love core self change cnn different sister rather brother haskell wonderful like gotten two price one differences takes long get dressed much closer ever hard say change made happier first thought really losing brother like grief death happiness crucial open gregarious think mother would upset funny way ellen kind person mother wanted chevey cnn different age might earlier haskell think reason go acceptance much happening word people submerged desire finally means liberated cnn ellen life took adjusting even small areas like correct language right haskell first time went public self conscious nervous went dinner upscale restaurant waiter asked liked food said mine good fabulous smirked smirked would often call chevey mistake two us phone voice huge thing improvable good surgery gets phone would see chevey brother recently though stopped automatically ellen cnn ellen initially want write book changed mind haskell wished book struggling wanted book much book think partnership read excerpt brother sister\n",
            "**************************\n",
            "orme tennessee drought southeastern united states means brown lawns folks orme tennessee water flows taps three hours evening firetruck loads water hydrant alabama haul back orme tennessee mountain spring supplies water town usually dries end summer days year dried early august revived leaving town residents high dry relying water trucked next state every day orme mayor tony reames turns big valve release water town tank turns crank taps town run dry cut back jump joy orme resident debbie cash said three hours three hours laundry bathing dishwashing animal watering done watch cash copes old mining town could canary coal mine rest region miles southeast million people live around atlanta georgia nervously watching water levels go major reservoir drought highlighted ongoing struggle georgia alabama florida rights water chattahoochee river people river systems better take note streams tributaries river start drying river far behind reames said see photos atlanta shrinking lake lanier reservoir volunteers take turns three days week driving tanker truck orme diesel belching fire truck hydrant near bridgeport alabama miles road making several round trips haul gallons water back orme day bridgeport gets water tennessee river charge neighbor stevenson new hope alabama also help occasionally bringing trucks full water hydrant transferred orme trucks see orme go water things looking orme pipeline bridgeport nearly complete built help grant federal government new water coming made cash said worry addition austin texas company called guard planning donate water saving sink aerators shower heads toilet valves everyone orme november company spokesman robert easter said think going get another gallons savings per day per household easter said make little water tower town go three hours four hours without change anyone habits reames said residents found creative ways conserve flushing toilets condensation water air conditioners undrinkable water swimming pools filled early summer lesson everyone cherish water got kind careful cash said never know water mail friend cnn jim kavanagh contributed report\n",
            "**************************\n",
            "taliban militants implemented islamic law pakistan violence plagued swat valley last week taken control neighboring district protests karachi creation sharia courts swat valley answers swat valley history taking place swat valley swat valley located pakistan north west frontier province near border afghanistan miles pakistani capital islamabad alpine region one pakistan premier tourist destinations boasting nation ski resort shut taliban militants overran area also draw trout fishing enthusiasts wishing visit ancient buddhist ruins area happening swat valley recent years taliban militants unleashed wave violence claimed hundreds lives province militants wanted sharia law islamic law imposed region took valley central government pakistan long exerted little control area launched intense military offensive late july flush militants retaliation taliban carried series deadly attacks began gaining ground setting checkpoints area government intervened militants pakistani government reached peace deal earlier year recently signed law pakistani president asif ali zardari deal sharia law imposed region peace deal drew criticism pakistani government analysts political observers say government little choice capitulate militants terrorized region beheadings kidnappings destruction schools happening week taliban moved seize control neighboring buner district bringing closer islamabad since taliban insurgency began sharia law sharia law islamic law different interpretations taliban strict interpretation forbids women seen public without husbands fathers requires veils women beards men bans music television consequences severe taliban struggle impose sharia law anyone found disobeying pinned ground lashed others beheaded hung poles notices attached bodies anyone daring remove corpse hours passed would also beheaded hanged\n",
            "**************************\n"
          ],
          "name": "stdout"
        }
      ]
    },
    {
      "cell_type": "markdown",
      "metadata": {
        "id": "K5sTmiGcFCbN",
        "colab_type": "text"
      },
      "source": [
        "#Install and Import\n",
        "#####Google Colab offers free GPUs and TPUs! Since we'll be training a large neural network it's best to take advantage of this (in this case we'll attach a GPU), otherwise training will take a very long time.\n",
        "\n",
        "A GPU can be added by going to the menu and selecting:\n",
        "\n",
        "Edit -> Notebook Settings -> Add accelerator (GPU)\n",
        "\n",
        "Then run the following cell to confirm that the GPU is detected."
      ]
    },
    {
      "cell_type": "code",
      "metadata": {
        "id": "5Dil7HHRE86o",
        "colab_type": "code",
        "outputId": "469f07e6-24e8-490b-8d4d-2422c0e96211",
        "colab": {
          "base_uri": "https://localhost:8080/",
          "height": 34
        }
      },
      "source": [
        "import tensorflow as tf\n",
        "\n",
        "device_name = tf.test.gpu_device_name()\n",
        "if device_name != '/device:GPU:0':\n",
        "  raise SystemError('GPU device not found')\n",
        "print('Found GPU at: {}'.format(device_name))"
      ],
      "execution_count": 0,
      "outputs": [
        {
          "output_type": "stream",
          "text": [
            "Found GPU at: /device:GPU:0\n"
          ],
          "name": "stdout"
        }
      ]
    },
    {
      "cell_type": "markdown",
      "metadata": {
        "id": "wsU1g-02F0Ob",
        "colab_type": "text"
      },
      "source": [
        "#Import pytorch-pretrained-bert"
      ]
    },
    {
      "cell_type": "code",
      "metadata": {
        "id": "S6urMV5dF4O3",
        "colab_type": "code",
        "outputId": "771f45ea-a6bf-4a17-92bf-97b426aaffa5",
        "colab": {
          "base_uri": "https://localhost:8080/",
          "height": 445
        }
      },
      "source": [
        "!pip install pytorch-pretrained-bert pytorch-nlp"
      ],
      "execution_count": 0,
      "outputs": [
        {
          "output_type": "stream",
          "text": [
            "Collecting pytorch-pretrained-bert\n",
            "\u001b[?25l  Downloading https://files.pythonhosted.org/packages/d7/e0/c08d5553b89973d9a240605b9c12404bcf8227590de62bae27acbcfe076b/pytorch_pretrained_bert-0.6.2-py3-none-any.whl (123kB)\n",
            "\r\u001b[K     |██▋                             | 10kB 23.3MB/s eta 0:00:01\r\u001b[K     |█████▎                          | 20kB 2.2MB/s eta 0:00:01\r\u001b[K     |████████                        | 30kB 3.2MB/s eta 0:00:01\r\u001b[K     |██████████▋                     | 40kB 2.1MB/s eta 0:00:01\r\u001b[K     |█████████████▎                  | 51kB 2.6MB/s eta 0:00:01\r\u001b[K     |███████████████▉                | 61kB 3.1MB/s eta 0:00:01\r\u001b[K     |██████████████████▌             | 71kB 3.6MB/s eta 0:00:01\r\u001b[K     |█████████████████████▏          | 81kB 2.8MB/s eta 0:00:01\r\u001b[K     |███████████████████████▉        | 92kB 3.1MB/s eta 0:00:01\r\u001b[K     |██████████████████████████▌     | 102kB 3.4MB/s eta 0:00:01\r\u001b[K     |█████████████████████████████▏  | 112kB 3.4MB/s eta 0:00:01\r\u001b[K     |███████████████████████████████▊| 122kB 3.4MB/s eta 0:00:01\r\u001b[K     |████████████████████████████████| 133kB 3.4MB/s \n",
            "\u001b[?25hCollecting pytorch-nlp\n",
            "\u001b[?25l  Downloading https://files.pythonhosted.org/packages/4f/51/f0ee1efb75f7cc2e3065c5da1363d6be2eec79691b2821594f3f2329528c/pytorch_nlp-0.5.0-py3-none-any.whl (90kB)\n",
            "\r\u001b[K     |███▋                            | 10kB 30.9MB/s eta 0:00:01\r\u001b[K     |███████▎                        | 20kB 39.2MB/s eta 0:00:01\r\u001b[K     |███████████                     | 30kB 43.4MB/s eta 0:00:01\r\u001b[K     |██████████████▌                 | 40kB 47.2MB/s eta 0:00:01\r\u001b[K     |██████████████████▏             | 51kB 49.7MB/s eta 0:00:01\r\u001b[K     |█████████████████████▉          | 61kB 52.8MB/s eta 0:00:01\r\u001b[K     |█████████████████████████▌      | 71kB 54.6MB/s eta 0:00:01\r\u001b[K     |█████████████████████████████   | 81kB 55.7MB/s eta 0:00:01\r\u001b[K     |████████████████████████████████| 92kB 12.4MB/s \n",
            "\u001b[?25hRequirement already satisfied: tqdm in /usr/local/lib/python3.6/dist-packages (from pytorch-pretrained-bert) (4.38.0)\n",
            "Requirement already satisfied: requests in /usr/local/lib/python3.6/dist-packages (from pytorch-pretrained-bert) (2.21.0)\n",
            "Requirement already satisfied: torch>=0.4.1 in /usr/local/lib/python3.6/dist-packages (from pytorch-pretrained-bert) (1.4.0)\n",
            "Requirement already satisfied: regex in /usr/local/lib/python3.6/dist-packages (from pytorch-pretrained-bert) (2019.12.20)\n",
            "Requirement already satisfied: numpy in /usr/local/lib/python3.6/dist-packages (from pytorch-pretrained-bert) (1.18.3)\n",
            "Requirement already satisfied: boto3 in /usr/local/lib/python3.6/dist-packages (from pytorch-pretrained-bert) (1.12.43)\n",
            "Requirement already satisfied: chardet<3.1.0,>=3.0.2 in /usr/local/lib/python3.6/dist-packages (from requests->pytorch-pretrained-bert) (3.0.4)\n",
            "Requirement already satisfied: certifi>=2017.4.17 in /usr/local/lib/python3.6/dist-packages (from requests->pytorch-pretrained-bert) (2020.4.5.1)\n",
            "Requirement already satisfied: urllib3<1.25,>=1.21.1 in /usr/local/lib/python3.6/dist-packages (from requests->pytorch-pretrained-bert) (1.24.3)\n",
            "Requirement already satisfied: idna<2.9,>=2.5 in /usr/local/lib/python3.6/dist-packages (from requests->pytorch-pretrained-bert) (2.8)\n",
            "Requirement already satisfied: jmespath<1.0.0,>=0.7.1 in /usr/local/lib/python3.6/dist-packages (from boto3->pytorch-pretrained-bert) (0.9.5)\n",
            "Requirement already satisfied: botocore<1.16.0,>=1.15.43 in /usr/local/lib/python3.6/dist-packages (from boto3->pytorch-pretrained-bert) (1.15.43)\n",
            "Requirement already satisfied: s3transfer<0.4.0,>=0.3.0 in /usr/local/lib/python3.6/dist-packages (from boto3->pytorch-pretrained-bert) (0.3.3)\n",
            "Requirement already satisfied: python-dateutil<3.0.0,>=2.1 in /usr/local/lib/python3.6/dist-packages (from botocore<1.16.0,>=1.15.43->boto3->pytorch-pretrained-bert) (2.8.1)\n",
            "Requirement already satisfied: docutils<0.16,>=0.10 in /usr/local/lib/python3.6/dist-packages (from botocore<1.16.0,>=1.15.43->boto3->pytorch-pretrained-bert) (0.15.2)\n",
            "Requirement already satisfied: six>=1.5 in /usr/local/lib/python3.6/dist-packages (from python-dateutil<3.0.0,>=2.1->botocore<1.16.0,>=1.15.43->boto3->pytorch-pretrained-bert) (1.12.0)\n",
            "Installing collected packages: pytorch-pretrained-bert, pytorch-nlp\n",
            "Successfully installed pytorch-nlp-0.5.0 pytorch-pretrained-bert-0.6.2\n"
          ],
          "name": "stdout"
        }
      ]
    },
    {
      "cell_type": "code",
      "metadata": {
        "id": "0mshreGlITBc",
        "colab_type": "code",
        "outputId": "f89a7656-501e-4c09-e461-e702c515ccf5",
        "colab": {
          "base_uri": "https://localhost:8080/",
          "height": 34
        }
      },
      "source": [
        "import torch\n",
        "from torch.utils.data import TensorDataset, DataLoader, RandomSampler, SequentialSampler\n",
        "from keras.preprocessing.sequence import pad_sequences\n",
        "from sklearn.model_selection import train_test_split\n",
        "from pytorch_pretrained_bert import BertTokenizer, BertConfig\n",
        "from pytorch_pretrained_bert import BertAdam, BertForSequenceClassification\n",
        "from tqdm import tqdm, trange\n",
        "import pandas as pd\n",
        "import io\n",
        "import numpy as np\n",
        "import matplotlib.pyplot as plt\n",
        "% matplotlib inline"
      ],
      "execution_count": 0,
      "outputs": [
        {
          "output_type": "stream",
          "text": [
            "Using TensorFlow backend.\n"
          ],
          "name": "stderr"
        }
      ]
    },
    {
      "cell_type": "markdown",
      "metadata": {
        "id": "KTsDpJxTleAl",
        "colab_type": "text"
      },
      "source": [
        "####In order for torch to use the GPU, we need to identify and specify the GPU as the device. Later, in our training loop, we will load data onto the device."
      ]
    },
    {
      "cell_type": "code",
      "metadata": {
        "id": "vuRyJSX5lam7",
        "colab_type": "code",
        "outputId": "a7d3400d-9b79-4f30-a02f-a22f59071e2e",
        "colab": {
          "base_uri": "https://localhost:8080/",
          "height": 34
        }
      },
      "source": [
        "device = torch.device(\"cuda\" if torch.cuda.is_available() else \"cpu\")\n",
        "n_gpu = torch.cuda.device_count()\n",
        "torch.cuda.get_device_name(0)"
      ],
      "execution_count": 0,
      "outputs": [
        {
          "output_type": "execute_result",
          "data": {
            "text/plain": [
              "'Tesla P100-PCIE-16GB'"
            ]
          },
          "metadata": {
            "tags": []
          },
          "execution_count": 16
        }
      ]
    },
    {
      "cell_type": "markdown",
      "metadata": {
        "id": "S-BTTEbIlqHI",
        "colab_type": "text"
      },
      "source": [
        "#Load Dataset"
      ]
    },
    {
      "cell_type": "code",
      "metadata": {
        "id": "r4gvRgZClkTD",
        "colab_type": "code",
        "colab": {}
      },
      "source": [
        ""
      ],
      "execution_count": 0,
      "outputs": []
    },
    {
      "cell_type": "code",
      "metadata": {
        "id": "GPmKZio0y6Ie",
        "colab_type": "code",
        "outputId": "e5490120-9944-4681-bf21-7ccecc5d19a5",
        "colab": {
          "base_uri": "https://localhost:8080/",
          "height": 109
        }
      },
      "source": [
        "############split our dataset into a training and validation set. We’ll use 90% of the dataset as the training data and evaluate the performance on the remaining 10% (holdout set):\n",
        "\n",
        "from sklearn.model_selection import train_test_split\n",
        "x_tr,x_val,y_tr,y_val=train_test_split(np.array(df1['text']),np.array(df1['summary']),test_size=0.1,random_state=0,shuffle=True)\n",
        "\n",
        "\n",
        "#\n",
        "print(len(x_tr))\n",
        "print(len(x_val))\n",
        "print(len(y_tr))\n",
        "print(len(y_val))\n",
        "\n",
        "\n",
        "\n",
        "print(\"step5\")\n",
        "#Text Tokenizer\n",
        "from tensorflow.keras.preprocessing.text import Tokenizer \n",
        "from tensorflow.keras.preprocessing.sequence import pad_sequences\n",
        "\n",
        "#prepare a tokenizer for reviews on training data\n",
        "x_tokenizer = Tokenizer() \n",
        "x_tokenizer.fit_on_texts(list(x_tr))\n",
        "\n",
        "#############################################"
      ],
      "execution_count": 0,
      "outputs": [
        {
          "output_type": "stream",
          "text": [
            "477\n",
            "54\n",
            "477\n",
            "54\n",
            "step5\n"
          ],
          "name": "stdout"
        }
      ]
    },
    {
      "cell_type": "markdown",
      "metadata": {
        "id": "nD9IS_p8zJdY",
        "colab_type": "text"
      },
      "source": [
        "#Let us look at the proportion rare words and its total coverage in the entire text(storiers)\n",
        "\n",
        "#Here, I am defining the threshold to be 4 which means word whose count is below 4 is considered as a rare word\n"
      ]
    },
    {
      "cell_type": "code",
      "metadata": {
        "id": "SCPolleEzFCH",
        "colab_type": "code",
        "outputId": "f9b6ea96-3179-4461-accf-e27e6955851e",
        "colab": {
          "base_uri": "https://localhost:8080/",
          "height": 128
        }
      },
      "source": [
        "thresh=8\n",
        "\n",
        "cnt=0\n",
        "tot_cnt=0\n",
        "freq=0\n",
        "tot_freq=0\n",
        "\n",
        "for key,value in x_tokenizer.word_counts.items():\n",
        "    tot_cnt=tot_cnt+1\n",
        "    tot_freq=tot_freq+value\n",
        "    if(value<thresh):\n",
        "        cnt=cnt+1\n",
        "        freq=freq+value\n",
        "    \n",
        "print(\"% of rare words in vocabulary:\",(cnt/tot_cnt)*100)\n",
        "print(\"Total Coverage of rare words:\",(freq/tot_freq)*100)\n",
        "print(\"Total count of all vocabs :\",tot_cnt)\n",
        "print(\"the top most common words :\",tot_cnt-cnt)\n",
        "print(\"the words that num of words less than thresh :\",cnt)\n",
        "\n",
        "\n",
        "print(\"step6\")"
      ],
      "execution_count": 0,
      "outputs": [
        {
          "output_type": "stream",
          "text": [
            "% of rare words in vocabulary: 80.037376012267\n",
            "Total Coverage of rare words: 21.09260571698559\n",
            "Total count of all vocabs : 20869\n",
            "the top most common words : 4166\n",
            "the words that num of words less than thresh : 16703\n",
            "step6\n"
          ],
          "name": "stdout"
        }
      ]
    },
    {
      "cell_type": "markdown",
      "metadata": {
        "id": "wTvlPnUO0arq",
        "colab_type": "text"
      },
      "source": [
        "#Let us define the tokenizer with top most common words for stories/\n",
        "\n",
        "#prepare a tokenizer for reviews on training data"
      ]
    },
    {
      "cell_type": "code",
      "metadata": {
        "id": "sc1xUshJzQve",
        "colab_type": "code",
        "outputId": "7f738dc9-c425-4c9f-f8cc-4fcb3e2f3578",
        "colab": {
          "base_uri": "https://localhost:8080/",
          "height": 54
        }
      },
      "source": [
        "# ^^^^^^^^^^^^^^Let us define the tokenizer with top most common words for stories^^^^^^^^^^^^^^^\n",
        "#prepare a tokenizer for reviews on training data\n",
        "x_tokenizer = Tokenizer(num_words=tot_cnt-cnt) \n",
        "x_tokenizer.fit_on_texts(list(x_tr))\n",
        "\n",
        "#convert text sequences into integer sequences\n",
        "x_tr_seq    =   x_tokenizer.texts_to_sequences(x_tr) \n",
        "x_val_seq   =   x_tokenizer.texts_to_sequences(x_val)\n",
        "\n",
        "#padding zero upto maximum length\n",
        "x_tr    =   pad_sequences(x_tr_seq,  maxlen=max_text_len, padding='post')\n",
        "x_val   =   pad_sequences(x_val_seq, maxlen=max_text_len, padding='post')\n",
        "\n",
        "#size of vocabulary ( +1 for padding token)\n",
        "x_voc   =  x_tokenizer.num_words + 1\n",
        "\n",
        "print(x_voc)\n",
        "\n",
        "#prepare a tokenizer for stories on training data\n",
        "y_tokenizer = Tokenizer()   \n",
        "y_tokenizer.fit_on_texts(list(y_tr))\n",
        "\n",
        "#print(y_tokenizer.word_counts.items())\n",
        "\n",
        "print(\"step7\")\n"
      ],
      "execution_count": 0,
      "outputs": [
        {
          "output_type": "stream",
          "text": [
            "4167\n",
            "step7\n"
          ],
          "name": "stdout"
        }
      ]
    },
    {
      "cell_type": "code",
      "metadata": {
        "id": "LaHBknFN0kNL",
        "colab_type": "code",
        "colab": {}
      },
      "source": [
        ""
      ],
      "execution_count": 0,
      "outputs": []
    },
    {
      "cell_type": "markdown",
      "metadata": {
        "id": "Y4cZfa-x0lFU",
        "colab_type": "text"
      },
      "source": [
        "# **bold text** Rarewords and its Coverag **bold text**\n",
        "\n"
      ]
    },
    {
      "cell_type": "code",
      "metadata": {
        "id": "yPBg0sSL0miW",
        "colab_type": "code",
        "outputId": "1f60e614-9bf9-4691-bf05-b73a2e6d379c",
        "colab": {
          "base_uri": "https://localhost:8080/",
          "height": 72
        }
      },
      "source": [
        "thresh=6\n",
        "\n",
        "cnt=0\n",
        "tot_cnt=0\n",
        "freq=0\n",
        "tot_freq=0\n",
        "\n",
        "for key,value in y_tokenizer.word_counts.items():\n",
        "    tot_cnt=tot_cnt+1\n",
        "    tot_freq=tot_freq+value\n",
        "    if(value<thresh):\n",
        "        cnt=cnt+1\n",
        "        freq=freq+value\n",
        "    \n",
        "#print(\"% of rare words in vocabulary:\",(cnt/tot_cnt)*100)\n",
        "#print(\"Total Coverage of rare words:\",(freq/tot_freq)*100)\n",
        "#\n",
        "#print(\"the top most common words :\",tot_cnt-cnt)\n",
        "#print(\"the words that num of words less than thresh :\",cnt)\n",
        "\n",
        "#prepare a tokenizer for reviews on training data\n",
        "y_tokenizer = Tokenizer(num_words=tot_cnt-cnt) \n",
        "y_tokenizer.fit_on_texts(list(y_tr))\n",
        "\n",
        "#convert text sequences into integer sequences\n",
        "y_tr_seq    =   y_tokenizer.texts_to_sequences(y_tr) \n",
        "y_val_seq   =   y_tokenizer.texts_to_sequences(y_val) \n",
        "\n",
        "#padding zero upto maximum length\n",
        "y_tr    =   pad_sequences(y_tr_seq, maxlen=max_summary_len, padding='post')\n",
        "y_val   =   pad_sequences(y_val_seq, maxlen=max_summary_len, padding='post')\n",
        "\n",
        "#size of vocabulary\n",
        "y_voc  =   y_tokenizer.num_words +1\n",
        "\n",
        "#y_tokenizer.word_counts.items()\n",
        "\n",
        "print(y_tokenizer.word_counts['sostok'],len(y_tr)) #17997\n",
        "#y_tokenizer.word_counts['sostok'],len(y_tr)\n",
        "print(y_tokenizer.word_counts['eostok'],len(y_tr))\n",
        "\n",
        "print(\"step8\")"
      ],
      "execution_count": 0,
      "outputs": [
        {
          "output_type": "stream",
          "text": [
            "477 477\n",
            "477 477\n",
            "step8\n"
          ],
          "name": "stdout"
        }
      ]
    },
    {
      "cell_type": "markdown",
      "metadata": {
        "id": "2zvPiB3a1GlA",
        "colab_type": "text"
      },
      "source": [
        "###                       Model building"
      ]
    },
    {
      "cell_type": "code",
      "metadata": {
        "id": "l4RV0ZJI0-De",
        "colab_type": "code",
        "outputId": "339e4a4a-9435-47fb-e370-b31fde3dc5b5",
        "colab": {
          "base_uri": "https://localhost:8080/",
          "height": 166
        }
      },
      "source": [
        "from tensorflow.keras import backend as K \n",
        "K.clear_session()\n",
        "\n",
        "latent_dim = 300\n",
        "embedding_dim=100\n",
        "\n",
        "# Encoder\n",
        "encoder_inputs = Input(shape=(max_text_len,))\n",
        "\n",
        "#embedding layer\n",
        "enc_emb =  Embedding(x_voc, embedding_dim,trainable=True)(encoder_inputs)\n",
        "\n",
        "#encoder lstm 1\n",
        "encoder_lstm1 = LSTM(latent_dim,return_sequences=True,return_state=True,dropout=0.4,recurrent_dropout=0.4)\n",
        "encoder_output1, state_h1, state_c1 = encoder_lstm1(enc_emb)\n",
        "\n",
        "#encoder lstm 2\n",
        "encoder_lstm2 = LSTM(latent_dim,return_sequences=True,return_state=True,dropout=0.4,recurrent_dropout=0.4)\n",
        "encoder_output2, state_h2, state_c2 = encoder_lstm2(encoder_output1)\n",
        "\n",
        "#encoder lstm 3\n",
        "encoder_lstm3=LSTM(latent_dim, return_state=True, return_sequences=True,dropout=0.4,recurrent_dropout=0.4)\n",
        "encoder_outputs, state_h, state_c= encoder_lstm3(encoder_output2)\n",
        "\n",
        "# Set up the decoder, using `encoder_states` as initial state.\n",
        "decoder_inputs = Input(shape=(None,))\n",
        "\n",
        "#embedding layer\n",
        "dec_emb_layer = Embedding(y_voc, embedding_dim,trainable=True)\n",
        "dec_emb = dec_emb_layer(decoder_inputs)\n",
        "\n",
        "decoder_lstm = LSTM(latent_dim, return_sequences=True, return_state=True,dropout=0.4,recurrent_dropout=0.2)\n",
        "decoder_outputs,decoder_fwd_state, decoder_back_state = decoder_lstm(dec_emb,initial_state=[state_h, state_c])\n",
        "\n",
        "# Attention layer\n",
        "attn_layer = AttentionLayer(name='attention_layer')\n",
        "attn_out, attn_states = attn_layer([encoder_outputs, decoder_outputs])\n",
        "\n",
        "# Concat attention input and decoder LSTM output\n",
        "decoder_concat_input = Concatenate(axis=-1, name='concat_layer')([decoder_outputs, attn_out])\n",
        "\n",
        "#dense layer\n",
        "decoder_dense =  TimeDistributed(Dense(y_voc, activation='softmax'))\n",
        "decoder_outputs = decoder_dense(decoder_concat_input)\n",
        "\n",
        "print(\"step9\")"
      ],
      "execution_count": 0,
      "outputs": [
        {
          "output_type": "stream",
          "text": [
            "WARNING:tensorflow:From /usr/local/lib/python3.6/dist-packages/tensorflow_core/python/keras/initializers.py:119: calling RandomUniform.__init__ (from tensorflow.python.ops.init_ops) with dtype is deprecated and will be removed in a future version.\n",
            "Instructions for updating:\n",
            "Call initializer instance with the dtype argument instead of passing it to the constructor\n",
            "WARNING:tensorflow:From /usr/local/lib/python3.6/dist-packages/tensorflow_core/python/ops/resource_variable_ops.py:1630: calling BaseResourceVariable.__init__ (from tensorflow.python.ops.resource_variable_ops) with constraint is deprecated and will be removed in a future version.\n",
            "Instructions for updating:\n",
            "If using Keras pass *_constraint arguments to layers.\n",
            "step9\n"
          ],
          "name": "stdout"
        }
      ]
    },
    {
      "cell_type": "markdown",
      "metadata": {
        "id": "-TPadRua18yt",
        "colab_type": "text"
      },
      "source": [
        "### Define the model "
      ]
    },
    {
      "cell_type": "code",
      "metadata": {
        "id": "l4u8vpgQ1O6e",
        "colab_type": "code",
        "outputId": "818b7ebe-480c-4a51-eba3-239ccddfecfd",
        "colab": {
          "base_uri": "https://localhost:8080/",
          "height": 664
        }
      },
      "source": [
        "\n",
        "model = Model([encoder_inputs, decoder_inputs], decoder_outputs)\n",
        "\n",
        "model.summary()\n",
        "\n",
        "print(\"step10\")"
      ],
      "execution_count": 0,
      "outputs": [
        {
          "output_type": "stream",
          "text": [
            "Model: \"model\"\n",
            "__________________________________________________________________________________________________\n",
            "Layer (type)                    Output Shape         Param #     Connected to                     \n",
            "==================================================================================================\n",
            "input_1 (InputLayer)            [(None, 800)]        0                                            \n",
            "__________________________________________________________________________________________________\n",
            "embedding (Embedding)           (None, 800, 100)     416700      input_1[0][0]                    \n",
            "__________________________________________________________________________________________________\n",
            "lstm (LSTM)                     [(None, 800, 300), ( 481200      embedding[0][0]                  \n",
            "__________________________________________________________________________________________________\n",
            "input_2 (InputLayer)            [(None, None)]       0                                            \n",
            "__________________________________________________________________________________________________\n",
            "lstm_1 (LSTM)                   [(None, 800, 300), ( 721200      lstm[0][0]                       \n",
            "__________________________________________________________________________________________________\n",
            "embedding_1 (Embedding)         (None, None, 100)    43400       input_2[0][0]                    \n",
            "__________________________________________________________________________________________________\n",
            "lstm_2 (LSTM)                   [(None, 800, 300), ( 721200      lstm_1[0][0]                     \n",
            "__________________________________________________________________________________________________\n",
            "lstm_3 (LSTM)                   [(None, None, 300),  481200      embedding_1[0][0]                \n",
            "                                                                 lstm_2[0][1]                     \n",
            "                                                                 lstm_2[0][2]                     \n",
            "__________________________________________________________________________________________________\n",
            "attention_layer (AttentionLayer ((None, None, 300),  180300      lstm_2[0][0]                     \n",
            "                                                                 lstm_3[0][0]                     \n",
            "__________________________________________________________________________________________________\n",
            "concat_layer (Concatenate)      (None, None, 600)    0           lstm_3[0][0]                     \n",
            "                                                                 attention_layer[0][0]            \n",
            "__________________________________________________________________________________________________\n",
            "time_distributed (TimeDistribut (None, None, 434)    260834      concat_layer[0][0]               \n",
            "==================================================================================================\n",
            "Total params: 3,306,034\n",
            "Trainable params: 3,306,034\n",
            "Non-trainable params: 0\n",
            "__________________________________________________________________________________________________\n",
            "step10\n"
          ],
          "name": "stdout"
        }
      ]
    },
    {
      "cell_type": "code",
      "metadata": {
        "id": "nUcolOJw2BSr",
        "colab_type": "code",
        "outputId": "83408cdf-1ac3-4b97-80f4-a8a2be98ea1f",
        "colab": {
          "base_uri": "https://localhost:8080/",
          "height": 499
        }
      },
      "source": [
        "model.compile(optimizer='rmsprop', loss='sparse_categorical_crossentropy' , metrics=['accuracy'])\n",
        "\n",
        "history=model.fit([x_tr,y_tr[:,:-1]], y_tr.reshape(y_tr.shape[0],y_tr.shape[1], 1)[:,1:] ,epochs=10,batch_size=16 , validation_data=([x_val,y_val[:,:-1]], y_val.reshape(y_val.shape[0],y_val.shape[1], 1)[:,1:]))\n",
        "\n",
        "\n",
        "\n",
        "print(\"yaarab lak alhamd\")\n"
      ],
      "execution_count": 0,
      "outputs": [
        {
          "output_type": "stream",
          "text": [
            "WARNING:tensorflow:From /usr/local/lib/python3.6/dist-packages/tensorflow_core/python/ops/math_grad.py:1424: where (from tensorflow.python.ops.array_ops) is deprecated and will be removed in a future version.\n",
            "Instructions for updating:\n",
            "Use tf.where in 2.0, which has the same broadcast rule as np.where\n",
            "Train on 477 samples, validate on 54 samples\n",
            "Epoch 1/10\n",
            "477/477 [==============================] - 117s 245ms/sample - loss: 1.8726 - acc: 0.7430 - val_loss: 1.3695 - val_acc: 0.8167\n",
            "Epoch 2/10\n",
            "477/477 [==============================] - 113s 237ms/sample - loss: 1.4061 - acc: 0.7739 - val_loss: 1.0546 - val_acc: 0.8193\n",
            "Epoch 3/10\n",
            "477/477 [==============================] - 114s 239ms/sample - loss: 1.3214 - acc: 0.7846 - val_loss: 1.0259 - val_acc: 0.8348\n",
            "Epoch 4/10\n",
            "477/477 [==============================] - 114s 238ms/sample - loss: 1.3104 - acc: 0.7910 - val_loss: 1.0122 - val_acc: 0.8371\n",
            "Epoch 5/10\n",
            "477/477 [==============================] - 113s 238ms/sample - loss: 1.2775 - acc: 0.7929 - val_loss: 1.0093 - val_acc: 0.8364\n",
            "Epoch 6/10\n",
            "477/477 [==============================] - 114s 238ms/sample - loss: 1.2651 - acc: 0.7929 - val_loss: 1.0145 - val_acc: 0.8356\n",
            "Epoch 7/10\n",
            "477/477 [==============================] - 114s 238ms/sample - loss: 1.2557 - acc: 0.7932 - val_loss: 1.0148 - val_acc: 0.8360\n",
            "Epoch 8/10\n",
            "477/477 [==============================] - 113s 237ms/sample - loss: 1.2432 - acc: 0.7938 - val_loss: 1.0129 - val_acc: 0.8364\n",
            "Epoch 9/10\n",
            "477/477 [==============================] - 113s 237ms/sample - loss: 1.2304 - acc: 0.7943 - val_loss: 1.0159 - val_acc: 0.8360\n",
            "Epoch 10/10\n",
            "477/477 [==============================] - 113s 238ms/sample - loss: 1.2245 - acc: 0.7934 - val_loss: 1.0183 - val_acc: 0.8356\n",
            "yaarab lak alhamd\n"
          ],
          "name": "stdout"
        }
      ]
    },
    {
      "cell_type": "code",
      "metadata": {
        "id": "HDP3oZZ811S7",
        "colab_type": "code",
        "colab": {}
      },
      "source": [
        ""
      ],
      "execution_count": 0,
      "outputs": []
    },
    {
      "cell_type": "markdown",
      "metadata": {
        "id": "HZF3FQb26nwW",
        "colab_type": "text"
      },
      "source": [
        "# Understanding the Diagnostic plot¶ \n",
        "Now, we will plot a few diagnostic plots to understand the behavior of the model over time:"
      ]
    },
    {
      "cell_type": "code",
      "metadata": {
        "id": "E_LWBWaw2JjB",
        "colab_type": "code",
        "outputId": "3c3a7dd3-8bd4-430e-99bc-4b3c474b166c",
        "colab": {
          "base_uri": "https://localhost:8080/",
          "height": 265
        }
      },
      "source": [
        "\n",
        "from matplotlib import pyplot\n",
        "pyplot.plot(history.history['loss'], label='train')\n",
        "pyplot.plot(history.history['val_loss'], label='test')\n",
        "pyplot.legend()\n",
        "pyplot.show()\n",
        "\n"
      ],
      "execution_count": 0,
      "outputs": [
        {
          "output_type": "display_data",
          "data": {
            "image/png": "[encoded data removed]",
            "text/plain": [
              "<Figure size 432x288 with 1 Axes>"
            ]
          },
          "metadata": {
            "tags": []
          }
        }
      ]
    },
    {
      "cell_type": "markdown",
      "metadata": {
        "id": "Kq7O45em7K-Z",
        "colab_type": "text"
      },
      "source": [
        "Next, let’s build the dictionary to convert the index to word for target and source vocabulary:"
      ]
    },
    {
      "cell_type": "code",
      "metadata": {
        "id": "xJGq5U7p6urP",
        "colab_type": "code",
        "colab": {}
      },
      "source": [
        "reverse_target_word_index=y_tokenizer.index_word\n",
        "reverse_source_word_index=x_tokenizer.index_word\n",
        "target_word_index=y_tokenizer.word_index"
      ],
      "execution_count": 0,
      "outputs": []
    },
    {
      "cell_type": "markdown",
      "metadata": {
        "id": "cgFrddqP8Cc_",
        "colab_type": "text"
      },
      "source": [
        "\n",
        "## Inference\n",
        "\n",
        "Set up the inference for the encoder and decoder:\n"
      ]
    },
    {
      "cell_type": "code",
      "metadata": {
        "id": "D-rIBEL27O2B",
        "colab_type": "code",
        "colab": {}
      },
      "source": [
        "# Encode the input sequence to get the feature vector\n",
        "encoder_model = Model(inputs=encoder_inputs,outputs=[encoder_outputs, state_h, state_c])\n",
        "\n",
        "# Decoder setup\n",
        "# Below tensors will hold the states of the previous time step\n",
        "decoder_state_input_h = Input(shape=(latent_dim,))\n",
        "decoder_state_input_c = Input(shape=(latent_dim,))\n",
        "decoder_hidden_state_input = Input(shape=(max_text_len,latent_dim))\n",
        "\n",
        "# Get the embeddings of the decoder sequence\n",
        "dec_emb2= dec_emb_layer(decoder_inputs) \n",
        "# To predict the next word in the sequence, set the initial states to the states from the previous time step\n",
        "decoder_outputs2, state_h2, state_c2 = decoder_lstm(dec_emb2, initial_state=[decoder_state_input_h, decoder_state_input_c])\n",
        "\n",
        "#attention inference\n",
        "attn_out_inf, attn_states_inf = attn_layer([decoder_hidden_state_input, decoder_outputs2])\n",
        "decoder_inf_concat = Concatenate(axis=-1, name='concat')([decoder_outputs2, attn_out_inf])\n",
        "\n",
        "# A dense softmax layer to generate prob dist. over the target vocabulary\n",
        "decoder_outputs2 = decoder_dense(decoder_inf_concat) \n",
        "\n",
        "# Final decoder model\n",
        "decoder_model = Model(\n",
        "    [decoder_inputs] + [decoder_hidden_state_input,decoder_state_input_h, decoder_state_input_c],\n",
        "    [decoder_outputs2] + [state_h2, state_c2])"
      ],
      "execution_count": 0,
      "outputs": []
    },
    {
      "cell_type": "code",
      "metadata": {
        "id": "oTftuPp88OOD",
        "colab_type": "code",
        "colab": {}
      },
      "source": [
        "def decode_sequence(input_seq):\n",
        "    # Encode the input as state vectors.\n",
        "    e_out, e_h, e_c = encoder_model.predict(input_seq)\n",
        "    \n",
        "    # Generate empty target sequence of length 1.\n",
        "    target_seq = np.zeros((1,1))\n",
        "    \n",
        "    # Populate the first word of target sequence with the start word.\n",
        "    target_seq[0, 0] = target_word_index['sostok']\n",
        "\n",
        "    stop_condition = False\n",
        "    decoded_sentence = ''\n",
        "    while not stop_condition:\n",
        "      \n",
        "        output_tokens, h, c = decoder_model.predict([target_seq] + [e_out, e_h, e_c])\n",
        "\n",
        "        # Sample a token\n",
        "        sampled_token_index = np.argmax(output_tokens[0, -1, :])\n",
        "        sampled_token = reverse_target_word_index[sampled_token_index]\n",
        "        \n",
        "        if(sampled_token!='eostok'):\n",
        "            decoded_sentence += ' '+sampled_token\n",
        "\n",
        "        # Exit condition: either hit max length or find stop word.\n",
        "        if (sampled_token == 'eostok'  or len(decoded_sentence.split()) >= (max_summary_len-1)):\n",
        "            stop_condition = True\n",
        "\n",
        "        # Update the target sequence (of length 1).\n",
        "        target_seq = np.zeros((1,1))\n",
        "        target_seq[0, 0] = sampled_token_index\n",
        "\n",
        "        # Update internal states\n",
        "        e_h, e_c = h, c\n",
        "\n",
        "    return decoded_sentence"
      ],
      "execution_count": 0,
      "outputs": []
    },
    {
      "cell_type": "markdown",
      "metadata": {
        "id": "ASGI8l7Q8aii",
        "colab_type": "text"
      },
      "source": [
        "\n",
        "\n",
        "Let us define the functions to convert an integer sequence to a word sequence for summary as well as the reviews:\n"
      ]
    },
    {
      "cell_type": "code",
      "metadata": {
        "id": "nrf75RRY8XtC",
        "colab_type": "code",
        "colab": {}
      },
      "source": [
        "def seq2summary(input_seq):\n",
        "    newString=''\n",
        "    for i in input_seq:\n",
        "        if((i!=0 and i!=target_word_index['sostok']) and i!=target_word_index['eostok']):\n",
        "            newString=newString+reverse_target_word_index[i]+' '\n",
        "    return newString\n",
        "\n",
        "def seq2text(input_seq):\n",
        "    newString=''\n",
        "    for i in input_seq:\n",
        "        if(i!=0):\n",
        "            newString=newString+reverse_source_word_index[i]+' '\n",
        "    return newString"
      ],
      "execution_count": 0,
      "outputs": []
    },
    {
      "cell_type": "code",
      "metadata": {
        "id": "df5VO3_K8fRB",
        "colab_type": "code",
        "outputId": "c638e787-8c25-495e-df2a-3dcf36e9097c",
        "colab": {
          "base_uri": "https://localhost:8080/",
          "height": 961
        }
      },
      "source": [
        "for i in range(0,10):\n",
        "    print(\"Review:\",seq2text(x_tr[i]))\n",
        "    print(\"Original summary:\",seq2summary(y_tr[i]))\n",
        "    print(\"Predicted summary:\",decode_sequence(x_tr[i].reshape(1,max_text_len)))\n",
        "    print(\"\\n\")"
      ],
      "execution_count": 0,
      "outputs": [
        {
          "output_type": "stream",
          "text": [
            "Review: somalia government said saturday investigating death malaysian shot dead african union allegedly fired humanitarian workers opened fire killing another journalist tv reporter somalia government said saturday statement police security forces immediately reached location incident started full investigation shocking action government said attempts reach au representative immediately successful saturday friday heading cover sponsored project help victims behalf malaysia national news agency interview malaysia prime minister said hero willing take risk provide extensive coverage missions help others many parts world said reporters without borders activist organization behalf journalist said friday somalia continued one dangerous countries world journalists often caught cross islamic al militia pro government forces long list journalists killed course work somalia africa country media personnel killed since reporters without borders said friday despite recent islamist group al violence fighting stopped somalia continues extremely dangerous organization stated cnn david contributed report \n",
            "Original summary: prime minister national hero film project government said african union one world say \n",
            "Predicted summary:  new says says says says says says says says says says says\n",
            "\n",
            "\n",
            "Review: washington president barack obama approved use armed drones libya defense secretary robert gates said thursday gates suggested missions may already begun said believed first flights launched thursday called back due poor weather president said unique capabilities willing use gates said think today may fact first mission gates said drones offer nato efforts support rebels fighting libyan leader gadhafi forces though gadhafi specific target aerial vehicles offer targeting low flying allows better particularly targets started positions gates said said drones needed humanitarian reasons capabilities larger aircraft cannot provide vice joint chairman gen james said added necessary forces loyal gadhafi crowded areas civilian casualties difficult identify friend said noting drones individuals ground remote strike gadhafi defense missions including air defense missile radar sites strikes also authorized civilian protection hit gadhafi troops military equipment field employed use drones early nato campaign intended surveillance authorized fire \n",
            "Original summary: new may first mission says new says help new says new air defense well troops \n",
            "Predicted summary:  new says says says says says says says says says says says\n",
            "\n",
            "\n",
            "Review: five years ago telling friend regularly orange traffic cone might earn quick trip days friend might respond trade rick welcome age twitter accounts animals speak mind regularly mouth san francisco famous fog even universe social media platform users express get giving voice things cannot speak accounts twitter since boston area joined service march way million followers news recently one user created response seats olympic london days followers another olympics related feed star american events followers bad considering average twitter user people group say primary motivation fun others chance make mark crowded world web however agree thought goes character eye cat food breath woman behind account began twitter account august planning around best way test waters said asked name published twitter would friends colleagues follow could make exit twitter done around two years almost followers later still beginning though many account really know first know account cat soon realized character people related said real cat food breath definitely character cat writes gives owner garfield like family dog called san francisco fog anonymous twitter began accounts bring awareness things cannot speak like san francisco fog brings city love everything fog said man created august think way beautiful even little love certain points city creating wall moved city plus degrees summer mostly excited three months man also requested inspired popular response bp oil gulf mexico karl fog reports public feelings toward fog acts like rep form weather karl already followers giving karl identity brought sometimes especially fog fourth july overall said get lots weather favorite tweets people take pictures karl post twitter man said seeing many people pick karl pictures orange cone like karl fog followers online orange cone originally account came twitter discovered tweets zoo last year escaped today orange cone keeps following users date followers respond people everyday life send pictures hundreds said man behind cone asked name used find people stopping real world take picture orange cone love added cone hit course race feed driver hit cone february practice came orange cone aid made twitter apology added followers next hour said staying character real followers table bit like nobody knows said man behind character referring anonymous britain based artist possible would like keep way wrote mail cnn apart statement never broke character instead offered clues personality like like wrote person behind popular real life escaped new york city zoo also declined break character mail exchange cnn account followers thing tweeted said request high school student running student government wrote cnn lost best online many large popularity led think relationship internet real world feeling could wrong people follow orange cone find real drivers track said reach cases get response fact one knows means could anyone adds mystery added man behind think people bay area like karl fog already character lives world becoming increasingly cast friends internet match exact interests sense karl think sports pop culture politics ridiculous ways said forces theme since job creative nature gives chance want twitter users say gives chance create cone gets say things think wish could said man behind well horse life thinks knows followers appreciate breath fresh air said forced brand agenda political throw away easy people respond well sort thing yes let us honest may one little agenda recent demand horse shirts site another said favorite twitter account sound comments twitter users names changed may remain anonymous \n",
            "Original summary: popular twitter london even twitter million \n",
            "Predicted summary:  new says says says says says says says says says says says\n",
            "\n",
            "\n",
            "Review: deadly attack kabul adds one country security violent sectarian iraq pakistan sunni shia runs deep afghanistan cultural ethnic example rare see motivated violence kate clark afghan analysts network kabul described attack real shock whatever else happened past years sort sectarian attack aimed killing lots people told cnn phone afghan capital first claim responsibility bombing afghan capital come militant sunni group pakistan history sectarian attacks shia man spokesman al group al qaeda pakistan taliban claimed responsibility attack call radio language station pakistan sponsored united states government similar call reportedly made language service group powerful record high profile suicide bombings pakistan including attack hotel al attack date double suicide bombing northwest pakistan last year wearing killed people opposed pakistan taliban also known toward shia claim al valid would surprise afghan shia quick point form pakistani involvement attacks tuesday long history targeting hazara shia community pakistan hazara numerous pakistan afghanistan make much afghanistan shia minority decades countries sunni militants frequently powers year apparently killing osama bin laden several hazara capital province also home afghan taliban political leadership open letter warned pakistan people pakistan means land right october sunni militants killed dozens hazara one stopped bus shia way iran pakistani shot dead male passengers front families obviously active afghanistan since maintained training camps taliban rule sunni militants especially among pakistani taliban established presence afghan border regional analysts cross groups operating afghan pakistan border region taliban quick attacks kate clark says taliban attack would taliban leadership claim national movement part pattern attacks group clark also points message last month urged taliban fighters protect lives wealth honor ordinary people said percent civilian deaths afghanistan armed opposition orders leadership known field taliban one afghan possible local level may taliban taliban played sectarian card since becoming power afghanistan hazara community human rights watch documented two hazara taliban forces taliban fighters killed hundreds hazara mass execution soldiers previous year since taliban afghanistan hazara higher education government military new democratic annual kabul become elaborate may enough bombings tuesday attempt sectarian afghanistan obviously al qaeda iraq led abu al tried sectarian war country majority series attacks aimed holy occasions read latest attacks karzai trip kate clark afghan analysts network believes afghanistan hazara leaders already called community remain take offered attacks sides clark says sectarian conflict win situation attacks would claim hundreds lives \n",
            "Original summary: attack iraq pakistan afghanistan \n",
            "Predicted summary:  new says says says says says says says says says says says\n",
            "\n",
            "\n",
            "Review: official inner amnesty international report parts region law law everything normal said official information department prefecture report released friday amnesty international detailed protests around city prefecture seat government nothing happened demonstrations protests said monday amnesty report said chinese authorities declared law parts region apparent response days protests region long scene ethnic tension lived area centuries people arrived larger numbers people republic china people majority ethnic group china according human rights organization students took streets wednesday show ethnic name killed earlier month hit truck ethnic amnesty reported drivers truck custody chinese authorities posted youtube show large group people many young people wearing school uniforms seen walking streets students toward building houses regional government defend land defend rights according new york based southern human rights information center group area southern inner would like see region achieve independence cnn could independently verify according amnesty protests started may largely peaceful least people reported injured police northeast right protests wake call authorities minority areas authorities must start message rather attacking said catherine amnesty asia pacific deputy director protesters say culture threat pushed forced move cities places animal possible according director southern human rights information center motivation recent demonstrations chinese central government efforts recent years expand production areas used \n",
            "Original summary: long people people group china \n",
            "Predicted summary:  new says says says says says says says says says says says\n",
            "\n",
            "\n",
            "Review: new york indian diplomat whose arrest sparked exchange united states india federal indictment monday according court documents khobragade arrested strip searched federal agents new york city december federal authorities accused khobragade lying visa application much paid indicted january federal grand jury one count visa fraud one count making false statements khobragade filed motion charges claiming diplomatic time arrest according motion court agreed khobragade appointed mission india united nations position full diplomatic according court documents appointed position january day indicted even khobragade time arrest none proceedings district judge wrote government may proceed indictment obtained khobragade immune court continued khobragade attorney daniel said statement khobragade pleased rule law court agreed legal analysis rejected prosecution arguments case said india affairs spokesman issued statement ruling james spokesman united states attorney office southern district new york rule possibility charges court indicated decision khobragade currently bar new indictment alleged criminal conduct proceed said statement khobragade left united states january working indian ministry affairs delhi case drew international attention indian officials demanding washington united states would one official embassy new delhi cnn new york singh new delhi contributed report \n",
            "Original summary: new india ruling accused india officials charges cannot \n",
            "Predicted summary:  new says says says says says says says says says says\n",
            "\n",
            "\n",
            "Review: world victoria set italian eventually emerged second round french open monday year old looked like would achieve becoming first top player lose opening round open era moved within two games victory next finally earn clash germany kind thinking flight straight around pm tomorrow could catch told tour official website want leave soon china li sport rich list think maybe mix things added opening tournament waiting long time first match could wait get maybe much finish points plus also give lot credit played really well pushed deep today bad days happen important thing came defending champion li china round two regulation victory year old became first asian winner grand slam singles title last year event become first woman since defend crown try best told reporters tough stay level time li face france next round third seed win minutes face seven time grand slam winner williams round two home favorite seed second round win russian th seed tournament monday morning right injury seed germany surprise defeat america also victories monday republic italy seed \n",
            "Original summary: world french open first round one set back beat champion round two number tournament \n",
            "Predicted summary:  new old old old old old old old old old old old old police police police police\n",
            "\n",
            "\n",
            "Review: new delhi india alleged last month terror attacks seeking help pakistani officials india said monday guests palace hotel suspect mohammed wrote letter pakistan high commission india handed pakistan acting high commissioner new delhi monday evening india foreign ministry said asked statement pakistan foreign ministry said government far received information evidence incident government india according india foreign ministry stated letter attackers pakistan asked meeting pakistan high commission indian authorities said admitted one gunmen attacked several targets november three days police indian troops heart city hub india financial entertainment industries india said told investigators others trained year pakistan banned islamic militant group attacks left people dead well nine gunmen deaths occurred palace hotels sunday three weeks attacks cnn new delhi contributed report \n",
            "Original summary: attacks help writes pakistan high india officials say \n",
            "Predicted summary:  new says says says says says says says says says says says\n",
            "\n",
            "\n",
            "Review: wolfe alabama outside county hoping sun rose monday would first sex couple legally married county arrived sunday set crowd mostly media friends chosen family many approve relationship monday get dressed got would look like million said wolfe known seven years two last year pair got married state recognized union rights benefits partners previously considered going state allowed sex marriage wolfe idea work pay taxes feel right would nobody else said though minor computer problems license wish soon came true one performing ceremony outside media cameras captured moment wolfe one us hold together wolfe tears solely comes joined union sure said also thinking night couples denied opportunity wolfe able monday honor first couple county amazing said overwhelming love also people hope heart really means progress though supreme court district court southern district alabama cleared way sex marriages begin monday alabama conservative chief justice state supreme court sunday last effort stop probate judges issue marriage licenses sex couples stop several couples county across state probate judge alan king county state said appeared larger usual crowd outside arrived work monday state supreme court chief justice moore first chief justice post remove ten alabama judicial building wrote sunday order sex marriages necessary ensure justice state effective immediately probate judge state alabama agent employee alabama probate judge issue recognize marriage license state code constitution moore wrote order state code says marriage unique relationship man woman american civil union called moore order alabama probate judges constitution state law issue judge moore authority federal court decision said susan watson executive director alabama order done nothing create among different probate offices across state counties licenses sex couples many unfortunately received number effect human rights campaign already order clear violation legal several counties including told cnn issue sex marriage licenses monday county five sex couple awaiting licenses court opened monday chief probate lisa said court would follow moore guidance traditional marriage licenses told cnn houston counties also issue licenses lee county two sex couples attempted tie monday judge bill english said order chief justice late last night probate judges sure moore law behind shocked king said reaction moore order old enough remember george wallace stand door kid time king attempt gov wallace stop ordered schools black students entering university alabama court opened day king said want side history attorneys helped moore order duty follow constitution federal court order marriage licenses county think legal theory like gov wallace law said gov robert said would probate judges issue licenses statement included link supreme court opinion majority opinion cleared way marriages governor said single federal court judge vote alabama people marriage man woman added great respect legal process said follow rule law alabama allow issue sex marriage worked proper legal anyone monitoring situation alabama likely expected moore try block four days district court judge struck state ban sex marriages january moore hand delivered letter calling stop judicial opinions issued without constitutional authority federal court struck ban stay monday allow probate courts prepare alabama attorney general asked supreme court block marriages high court rules case decide sex marriages four states supreme court said monday would making alabama th state sex marriages case court even grant temporary stay issue hand several months justice thomas wrote would shown people alabama respect deserve status court important constitutional question responded statement stay likely coming months leading supreme court anticipated ruling sex marriage probate judges attorneys respond ruling opinion gay marriage alabama judge latest battle cnn john dave de contributed report \n",
            "Original summary: ruling says law state court chief others state chief tells federal \n",
            "Predicted summary:  new says says says says says says says says says says says\n",
            "\n",
            "\n",
            "Review: man suspected deaths three people wanted american woman whose body found last week national police said saturday body hughes native st louis found tuesday property william suspected death said director national police investigation unit said wife jane run may holland sure real identity said found false said authorities attempting reach police holland hughes early identified husband lives second body yet officially identified found near hughes believe killing people take property said added authorities know received tips public said property massive piece island western province del police executed search warrant said dog led authorities grave found hughes body family friend said hughes lived past decade owned hotel del del described hughes friends neighbors hughes lived st florida owned sign business moving said cnn nick miller contributed report \n",
            "Original summary: body american woman found suspect three police say people \n",
            "Predicted summary:  new says says says says says says says says says says says\n",
            "\n",
            "\n"
          ],
          "name": "stdout"
        }
      ]
    },
    {
      "cell_type": "code",
      "metadata": {
        "id": "ZzM5-j9I8h8t",
        "colab_type": "code",
        "colab": {}
      },
      "source": [
        ""
      ],
      "execution_count": 0,
      "outputs": []
    }
  ]
}